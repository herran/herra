{
  "nbformat": 4,
  "nbformat_minor": 0,
  "metadata": {
    "colab": {
      "name": "Untitled",
      "provenance": [],
      "collapsed_sections": []
    },
    "kernelspec": {
      "name": "python3",
      "display_name": "Python 3"
    },
    "widgets": {
      "application/vnd.jupyter.widget-state+json": {
        "7f8ee72d13ab47079b4d5c7000a77930": {
          "model_module": "@jupyter-widgets/controls",
          "model_name": "HBoxModel",
          "state": {
            "_view_name": "HBoxView",
            "_dom_classes": [],
            "_model_name": "HBoxModel",
            "_view_module": "@jupyter-widgets/controls",
            "_model_module_version": "1.5.0",
            "_view_count": null,
            "_view_module_version": "1.5.0",
            "box_style": "",
            "layout": "IPY_MODEL_5b7a1f8768cd47dea6172e5d4c07f2f0",
            "_model_module": "@jupyter-widgets/controls",
            "children": [
              "IPY_MODEL_74791c18170c4bff80521b63e4052b97",
              "IPY_MODEL_28eea41ec4f04e52bcfceb8375754a62"
            ]
          }
        },
        "5b7a1f8768cd47dea6172e5d4c07f2f0": {
          "model_module": "@jupyter-widgets/base",
          "model_name": "LayoutModel",
          "state": {
            "_view_name": "LayoutView",
            "grid_template_rows": null,
            "right": null,
            "justify_content": null,
            "_view_module": "@jupyter-widgets/base",
            "overflow": null,
            "_model_module_version": "1.2.0",
            "_view_count": null,
            "flex_flow": null,
            "width": null,
            "min_width": null,
            "border": null,
            "align_items": null,
            "bottom": null,
            "_model_module": "@jupyter-widgets/base",
            "top": null,
            "grid_column": null,
            "overflow_y": null,
            "overflow_x": null,
            "grid_auto_flow": null,
            "grid_area": null,
            "grid_template_columns": null,
            "flex": null,
            "_model_name": "LayoutModel",
            "justify_items": null,
            "grid_row": null,
            "max_height": null,
            "align_content": null,
            "visibility": null,
            "align_self": null,
            "height": null,
            "min_height": null,
            "padding": null,
            "grid_auto_rows": null,
            "grid_gap": null,
            "max_width": null,
            "order": null,
            "_view_module_version": "1.2.0",
            "grid_template_areas": null,
            "object_position": null,
            "object_fit": null,
            "grid_auto_columns": null,
            "margin": null,
            "display": null,
            "left": null
          }
        },
        "74791c18170c4bff80521b63e4052b97": {
          "model_module": "@jupyter-widgets/controls",
          "model_name": "FloatProgressModel",
          "state": {
            "_view_name": "ProgressView",
            "style": "IPY_MODEL_09869338ee4449a6b386d4ca8c96ac86",
            "_dom_classes": [],
            "description": "100%",
            "_model_name": "FloatProgressModel",
            "bar_style": "success",
            "max": 46827520,
            "_view_module": "@jupyter-widgets/controls",
            "_model_module_version": "1.5.0",
            "value": 46827520,
            "_view_count": null,
            "_view_module_version": "1.5.0",
            "orientation": "horizontal",
            "min": 0,
            "description_tooltip": null,
            "_model_module": "@jupyter-widgets/controls",
            "layout": "IPY_MODEL_8d21fe82c6fd4defb269ffdc9052f64d"
          }
        },
        "28eea41ec4f04e52bcfceb8375754a62": {
          "model_module": "@jupyter-widgets/controls",
          "model_name": "HTMLModel",
          "state": {
            "_view_name": "HTMLView",
            "style": "IPY_MODEL_9c6bc25edd1649319f356061115a27c8",
            "_dom_classes": [],
            "description": "",
            "_model_name": "HTMLModel",
            "placeholder": "​",
            "_view_module": "@jupyter-widgets/controls",
            "_model_module_version": "1.5.0",
            "value": " 44.7M/44.7M [00:34&lt;00:00, 1.38MB/s]",
            "_view_count": null,
            "_view_module_version": "1.5.0",
            "description_tooltip": null,
            "_model_module": "@jupyter-widgets/controls",
            "layout": "IPY_MODEL_96581433aa204d2997e70bc225877445"
          }
        },
        "09869338ee4449a6b386d4ca8c96ac86": {
          "model_module": "@jupyter-widgets/controls",
          "model_name": "ProgressStyleModel",
          "state": {
            "_view_name": "StyleView",
            "_model_name": "ProgressStyleModel",
            "description_width": "initial",
            "_view_module": "@jupyter-widgets/base",
            "_model_module_version": "1.5.0",
            "_view_count": null,
            "_view_module_version": "1.2.0",
            "bar_color": null,
            "_model_module": "@jupyter-widgets/controls"
          }
        },
        "8d21fe82c6fd4defb269ffdc9052f64d": {
          "model_module": "@jupyter-widgets/base",
          "model_name": "LayoutModel",
          "state": {
            "_view_name": "LayoutView",
            "grid_template_rows": null,
            "right": null,
            "justify_content": null,
            "_view_module": "@jupyter-widgets/base",
            "overflow": null,
            "_model_module_version": "1.2.0",
            "_view_count": null,
            "flex_flow": null,
            "width": null,
            "min_width": null,
            "border": null,
            "align_items": null,
            "bottom": null,
            "_model_module": "@jupyter-widgets/base",
            "top": null,
            "grid_column": null,
            "overflow_y": null,
            "overflow_x": null,
            "grid_auto_flow": null,
            "grid_area": null,
            "grid_template_columns": null,
            "flex": null,
            "_model_name": "LayoutModel",
            "justify_items": null,
            "grid_row": null,
            "max_height": null,
            "align_content": null,
            "visibility": null,
            "align_self": null,
            "height": null,
            "min_height": null,
            "padding": null,
            "grid_auto_rows": null,
            "grid_gap": null,
            "max_width": null,
            "order": null,
            "_view_module_version": "1.2.0",
            "grid_template_areas": null,
            "object_position": null,
            "object_fit": null,
            "grid_auto_columns": null,
            "margin": null,
            "display": null,
            "left": null
          }
        },
        "9c6bc25edd1649319f356061115a27c8": {
          "model_module": "@jupyter-widgets/controls",
          "model_name": "DescriptionStyleModel",
          "state": {
            "_view_name": "StyleView",
            "_model_name": "DescriptionStyleModel",
            "description_width": "",
            "_view_module": "@jupyter-widgets/base",
            "_model_module_version": "1.5.0",
            "_view_count": null,
            "_view_module_version": "1.2.0",
            "_model_module": "@jupyter-widgets/controls"
          }
        },
        "96581433aa204d2997e70bc225877445": {
          "model_module": "@jupyter-widgets/base",
          "model_name": "LayoutModel",
          "state": {
            "_view_name": "LayoutView",
            "grid_template_rows": null,
            "right": null,
            "justify_content": null,
            "_view_module": "@jupyter-widgets/base",
            "overflow": null,
            "_model_module_version": "1.2.0",
            "_view_count": null,
            "flex_flow": null,
            "width": null,
            "min_width": null,
            "border": null,
            "align_items": null,
            "bottom": null,
            "_model_module": "@jupyter-widgets/base",
            "top": null,
            "grid_column": null,
            "overflow_y": null,
            "overflow_x": null,
            "grid_auto_flow": null,
            "grid_area": null,
            "grid_template_columns": null,
            "flex": null,
            "_model_name": "LayoutModel",
            "justify_items": null,
            "grid_row": null,
            "max_height": null,
            "align_content": null,
            "visibility": null,
            "align_self": null,
            "height": null,
            "min_height": null,
            "padding": null,
            "grid_auto_rows": null,
            "grid_gap": null,
            "max_width": null,
            "order": null,
            "_view_module_version": "1.2.0",
            "grid_template_areas": null,
            "object_position": null,
            "object_fit": null,
            "grid_auto_columns": null,
            "margin": null,
            "display": null,
            "left": null
          }
        },
        "3827966657584d15890a92d1a0c45e94": {
          "model_module": "@jupyter-widgets/controls",
          "model_name": "FileUploadModel",
          "state": {
            "_view_name": "FileUploadView",
            "_counter": 1,
            "style": "IPY_MODEL_c23e7420eecb41f79f107d669d4ea266",
            "_dom_classes": [],
            "description": "Upload",
            "multiple": false,
            "_model_name": "FileUploadModel",
            "data": [
              null
            ],
            "button_style": "",
            "_view_module": "@jupyter-widgets/controls",
            "_model_module_version": "1.5.0",
            "accept": "",
            "_view_count": null,
            "disabled": false,
            "_view_module_version": "1.5.0",
            "error": "",
            "description_tooltip": null,
            "metadata": [
              {
                "name": "3f0518ecfa4581328f9fd6b54cc3d617.jpg",
                "type": "image/jpeg",
                "size": 29780,
                "lastModified": 1608057287000
              }
            ],
            "_model_module": "@jupyter-widgets/controls",
            "layout": "IPY_MODEL_d7230f8b07eb4d47bb5527e4314266c3",
            "icon": "upload"
          }
        },
        "c23e7420eecb41f79f107d669d4ea266": {
          "model_module": "@jupyter-widgets/controls",
          "model_name": "ButtonStyleModel",
          "state": {
            "_view_name": "StyleView",
            "_model_name": "ButtonStyleModel",
            "_view_module": "@jupyter-widgets/base",
            "_model_module_version": "1.5.0",
            "_view_count": null,
            "button_color": null,
            "font_weight": "",
            "_view_module_version": "1.2.0",
            "_model_module": "@jupyter-widgets/controls"
          }
        },
        "d7230f8b07eb4d47bb5527e4314266c3": {
          "model_module": "@jupyter-widgets/base",
          "model_name": "LayoutModel",
          "state": {
            "_view_name": "LayoutView",
            "grid_template_rows": null,
            "right": null,
            "justify_content": null,
            "_view_module": "@jupyter-widgets/base",
            "overflow": null,
            "_model_module_version": "1.2.0",
            "_view_count": null,
            "flex_flow": null,
            "width": null,
            "min_width": null,
            "border": null,
            "align_items": null,
            "bottom": null,
            "_model_module": "@jupyter-widgets/base",
            "top": null,
            "grid_column": null,
            "overflow_y": null,
            "overflow_x": null,
            "grid_auto_flow": null,
            "grid_area": null,
            "grid_template_columns": null,
            "flex": null,
            "_model_name": "LayoutModel",
            "justify_items": null,
            "grid_row": null,
            "max_height": null,
            "align_content": null,
            "visibility": null,
            "align_self": null,
            "height": null,
            "min_height": null,
            "padding": null,
            "grid_auto_rows": null,
            "grid_gap": null,
            "max_width": null,
            "order": null,
            "_view_module_version": "1.2.0",
            "grid_template_areas": null,
            "object_position": null,
            "object_fit": null,
            "grid_auto_columns": null,
            "margin": null,
            "display": null,
            "left": null
          }
        },
        "5d92b83cf9ad41bc8c3dc5d26196dc67": {
          "model_module": "@jupyter-widgets/controls",
          "model_name": "VBoxModel",
          "state": {
            "_view_name": "VBoxView",
            "_dom_classes": [],
            "_model_name": "VBoxModel",
            "_view_module": "@jupyter-widgets/controls",
            "_model_module_version": "1.5.0",
            "_view_count": null,
            "_view_module_version": "1.5.0",
            "box_style": "",
            "layout": "IPY_MODEL_988dd976c6324f2e95d2a40dc06838d6",
            "_model_module": "@jupyter-widgets/controls",
            "children": [
              "IPY_MODEL_74e101b6caaa4e8ebf0d676c6a4ea178",
              "IPY_MODEL_c8828451fc7f4d87bb16782c0e34fd73",
              "IPY_MODEL_83ca5c1b65b848e1aa845044684ac99a",
              "IPY_MODEL_d69ec5e17a6d45e79ac9908101d67281"
            ]
          }
        },
        "988dd976c6324f2e95d2a40dc06838d6": {
          "model_module": "@jupyter-widgets/base",
          "model_name": "LayoutModel",
          "state": {
            "_view_name": "LayoutView",
            "grid_template_rows": null,
            "right": null,
            "justify_content": null,
            "_view_module": "@jupyter-widgets/base",
            "overflow": null,
            "_model_module_version": "1.2.0",
            "_view_count": null,
            "flex_flow": null,
            "width": null,
            "min_width": null,
            "border": null,
            "align_items": null,
            "bottom": null,
            "_model_module": "@jupyter-widgets/base",
            "top": null,
            "grid_column": null,
            "overflow_y": null,
            "overflow_x": null,
            "grid_auto_flow": null,
            "grid_area": null,
            "grid_template_columns": null,
            "flex": null,
            "_model_name": "LayoutModel",
            "justify_items": null,
            "grid_row": null,
            "max_height": null,
            "align_content": null,
            "visibility": null,
            "align_self": null,
            "height": null,
            "min_height": null,
            "padding": null,
            "grid_auto_rows": null,
            "grid_gap": null,
            "max_width": null,
            "order": null,
            "_view_module_version": "1.2.0",
            "grid_template_areas": null,
            "object_position": null,
            "object_fit": null,
            "grid_auto_columns": null,
            "margin": null,
            "display": null,
            "left": null
          }
        },
        "74e101b6caaa4e8ebf0d676c6a4ea178": {
          "model_module": "@jupyter-widgets/controls",
          "model_name": "LabelModel",
          "state": {
            "_view_name": "LabelView",
            "style": "IPY_MODEL_ef434a3c90cc4be7afa2d0594666a4a1",
            "_dom_classes": [],
            "description": "",
            "_model_name": "LabelModel",
            "placeholder": "​",
            "_view_module": "@jupyter-widgets/controls",
            "_model_module_version": "1.5.0",
            "value": "Ingrese una Galleta",
            "_view_count": null,
            "_view_module_version": "1.5.0",
            "description_tooltip": null,
            "_model_module": "@jupyter-widgets/controls",
            "layout": "IPY_MODEL_b3201f52fc974fac8a336d98a0d2549f"
          }
        },
        "c8828451fc7f4d87bb16782c0e34fd73": {
          "model_module": "@jupyter-widgets/controls",
          "model_name": "FileUploadModel",
          "state": {
            "_view_name": "FileUploadView",
            "_counter": 1,
            "style": "IPY_MODEL_4bce8b6b620645ac96c51775c15d3bbf",
            "_dom_classes": [],
            "description": "Upload",
            "multiple": false,
            "_model_name": "FileUploadModel",
            "data": [
              null
            ],
            "button_style": "",
            "_view_module": "@jupyter-widgets/controls",
            "_model_module_version": "1.5.0",
            "accept": "",
            "_view_count": null,
            "disabled": false,
            "_view_module_version": "1.5.0",
            "error": "",
            "description_tooltip": null,
            "metadata": [
              {
                "name": "9d03df0fc20eff0d060542dec0c3c055.jpg",
                "type": "image/jpeg",
                "size": 42890,
                "lastModified": 1608056896000
              }
            ],
            "_model_module": "@jupyter-widgets/controls",
            "layout": "IPY_MODEL_814330796b804e84a53de973a8208194",
            "icon": "upload"
          }
        },
        "83ca5c1b65b848e1aa845044684ac99a": {
          "model_module": "@jupyter-widgets/output",
          "model_name": "OutputModel",
          "state": {
            "_view_name": "OutputView",
            "msg_id": "",
            "_dom_classes": [],
            "_model_name": "OutputModel",
            "outputs": [
              {
                "output_type": "display_data",
                "metadata": {
                  "tags": []
                },
                "image/png": "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\n",
                "text/plain": "<PIL.Image.Image image mode=RGB size=80x120 at 0x7F2384688128>"
              }
            ],
            "_view_module": "@jupyter-widgets/output",
            "_model_module_version": "1.0.0",
            "_view_count": null,
            "_view_module_version": "1.0.0",
            "layout": "IPY_MODEL_4dc3bfdac81c490b992063e663ce5a43",
            "_model_module": "@jupyter-widgets/output"
          }
        },
        "d69ec5e17a6d45e79ac9908101d67281": {
          "model_module": "@jupyter-widgets/controls",
          "model_name": "LabelModel",
          "state": {
            "_view_name": "LabelView",
            "style": "IPY_MODEL_a53663d17ec74e48b2dc2c7c6d0a992d",
            "_dom_classes": [],
            "description": "",
            "_model_name": "LabelModel",
            "placeholder": "​",
            "_view_module": "@jupyter-widgets/controls",
            "_model_module_version": "1.5.0",
            "value": "Se define como una de las galletas Bonitas, y esto con una confianza de 0.6779909729957581",
            "_view_count": null,
            "_view_module_version": "1.5.0",
            "description_tooltip": null,
            "_model_module": "@jupyter-widgets/controls",
            "layout": "IPY_MODEL_5e4f9d2585ec446c8af302d9b9dbd5ee"
          }
        },
        "ef434a3c90cc4be7afa2d0594666a4a1": {
          "model_module": "@jupyter-widgets/controls",
          "model_name": "DescriptionStyleModel",
          "state": {
            "_view_name": "StyleView",
            "_model_name": "DescriptionStyleModel",
            "description_width": "",
            "_view_module": "@jupyter-widgets/base",
            "_model_module_version": "1.5.0",
            "_view_count": null,
            "_view_module_version": "1.2.0",
            "_model_module": "@jupyter-widgets/controls"
          }
        },
        "b3201f52fc974fac8a336d98a0d2549f": {
          "model_module": "@jupyter-widgets/base",
          "model_name": "LayoutModel",
          "state": {
            "_view_name": "LayoutView",
            "grid_template_rows": null,
            "right": null,
            "justify_content": null,
            "_view_module": "@jupyter-widgets/base",
            "overflow": null,
            "_model_module_version": "1.2.0",
            "_view_count": null,
            "flex_flow": null,
            "width": null,
            "min_width": null,
            "border": null,
            "align_items": null,
            "bottom": null,
            "_model_module": "@jupyter-widgets/base",
            "top": null,
            "grid_column": null,
            "overflow_y": null,
            "overflow_x": null,
            "grid_auto_flow": null,
            "grid_area": null,
            "grid_template_columns": null,
            "flex": null,
            "_model_name": "LayoutModel",
            "justify_items": null,
            "grid_row": null,
            "max_height": null,
            "align_content": null,
            "visibility": null,
            "align_self": null,
            "height": null,
            "min_height": null,
            "padding": null,
            "grid_auto_rows": null,
            "grid_gap": null,
            "max_width": null,
            "order": null,
            "_view_module_version": "1.2.0",
            "grid_template_areas": null,
            "object_position": null,
            "object_fit": null,
            "grid_auto_columns": null,
            "margin": null,
            "display": null,
            "left": null
          }
        },
        "4bce8b6b620645ac96c51775c15d3bbf": {
          "model_module": "@jupyter-widgets/controls",
          "model_name": "ButtonStyleModel",
          "state": {
            "_view_name": "StyleView",
            "_model_name": "ButtonStyleModel",
            "_view_module": "@jupyter-widgets/base",
            "_model_module_version": "1.5.0",
            "_view_count": null,
            "button_color": null,
            "font_weight": "",
            "_view_module_version": "1.2.0",
            "_model_module": "@jupyter-widgets/controls"
          }
        },
        "814330796b804e84a53de973a8208194": {
          "model_module": "@jupyter-widgets/base",
          "model_name": "LayoutModel",
          "state": {
            "_view_name": "LayoutView",
            "grid_template_rows": null,
            "right": null,
            "justify_content": null,
            "_view_module": "@jupyter-widgets/base",
            "overflow": null,
            "_model_module_version": "1.2.0",
            "_view_count": null,
            "flex_flow": null,
            "width": null,
            "min_width": null,
            "border": null,
            "align_items": null,
            "bottom": null,
            "_model_module": "@jupyter-widgets/base",
            "top": null,
            "grid_column": null,
            "overflow_y": null,
            "overflow_x": null,
            "grid_auto_flow": null,
            "grid_area": null,
            "grid_template_columns": null,
            "flex": null,
            "_model_name": "LayoutModel",
            "justify_items": null,
            "grid_row": null,
            "max_height": null,
            "align_content": null,
            "visibility": null,
            "align_self": null,
            "height": null,
            "min_height": null,
            "padding": null,
            "grid_auto_rows": null,
            "grid_gap": null,
            "max_width": null,
            "order": null,
            "_view_module_version": "1.2.0",
            "grid_template_areas": null,
            "object_position": null,
            "object_fit": null,
            "grid_auto_columns": null,
            "margin": null,
            "display": null,
            "left": null
          }
        },
        "a53663d17ec74e48b2dc2c7c6d0a992d": {
          "model_module": "@jupyter-widgets/controls",
          "model_name": "DescriptionStyleModel",
          "state": {
            "_view_name": "StyleView",
            "_model_name": "DescriptionStyleModel",
            "description_width": "",
            "_view_module": "@jupyter-widgets/base",
            "_model_module_version": "1.5.0",
            "_view_count": null,
            "_view_module_version": "1.2.0",
            "_model_module": "@jupyter-widgets/controls"
          }
        },
        "5e4f9d2585ec446c8af302d9b9dbd5ee": {
          "model_module": "@jupyter-widgets/base",
          "model_name": "LayoutModel",
          "state": {
            "_view_name": "LayoutView",
            "grid_template_rows": null,
            "right": null,
            "justify_content": null,
            "_view_module": "@jupyter-widgets/base",
            "overflow": null,
            "_model_module_version": "1.2.0",
            "_view_count": null,
            "flex_flow": null,
            "width": null,
            "min_width": null,
            "border": null,
            "align_items": null,
            "bottom": null,
            "_model_module": "@jupyter-widgets/base",
            "top": null,
            "grid_column": null,
            "overflow_y": null,
            "overflow_x": null,
            "grid_auto_flow": null,
            "grid_area": null,
            "grid_template_columns": null,
            "flex": null,
            "_model_name": "LayoutModel",
            "justify_items": null,
            "grid_row": null,
            "max_height": null,
            "align_content": null,
            "visibility": null,
            "align_self": null,
            "height": null,
            "min_height": null,
            "padding": null,
            "grid_auto_rows": null,
            "grid_gap": null,
            "max_width": null,
            "order": null,
            "_view_module_version": "1.2.0",
            "grid_template_areas": null,
            "object_position": null,
            "object_fit": null,
            "grid_auto_columns": null,
            "margin": null,
            "display": null,
            "left": null
          }
        },
        "4dc3bfdac81c490b992063e663ce5a43": {
          "model_module": "@jupyter-widgets/base",
          "model_name": "LayoutModel",
          "state": {
            "_view_name": "LayoutView",
            "grid_template_rows": null,
            "right": null,
            "justify_content": null,
            "_view_module": "@jupyter-widgets/base",
            "overflow": null,
            "_model_module_version": "1.2.0",
            "_view_count": null,
            "flex_flow": null,
            "width": null,
            "min_width": null,
            "border": null,
            "align_items": null,
            "bottom": null,
            "_model_module": "@jupyter-widgets/base",
            "top": null,
            "grid_column": null,
            "overflow_y": null,
            "overflow_x": null,
            "grid_auto_flow": null,
            "grid_area": null,
            "grid_template_columns": null,
            "flex": null,
            "_model_name": "LayoutModel",
            "justify_items": null,
            "grid_row": null,
            "max_height": null,
            "align_content": null,
            "visibility": null,
            "align_self": null,
            "height": null,
            "min_height": null,
            "padding": null,
            "grid_auto_rows": null,
            "grid_gap": null,
            "max_width": null,
            "order": null,
            "_view_module_version": "1.2.0",
            "grid_template_areas": null,
            "object_position": null,
            "object_fit": null,
            "grid_auto_columns": null,
            "margin": null,
            "display": null,
            "left": null
          }
        }
      }
    }
  },
  "cells": [
    {
      "cell_type": "markdown",
      "metadata": {
        "id": "D61DYqKloUGW"
      },
      "source": [
        "# El clasificador de galletas navideñas\n",
        "Es una aplicación de visión de computadora basada en la arquitectura de redes convulosionales de resnet. Con el gran poder de decidir, sin preferencias que galletas son bonitas o feas, algo muy importante en estas fechas. Solo agrega el archivo al botón y se clasificará inmediatamente con una confianza asociada, esta confianza corresponde a cuan seguro está el modelo de su decisión."
      ]
    },
    {
      "cell_type": "code",
      "metadata": {
        "id": "n4-6cDJCF4CO",
        "colab": {
          "base_uri": "https://localhost:8080/",
          "height": 1000
        },
        "outputId": "24840381-825f-46e6-867f-50fae2668f26"
      },
      "source": [
        "from fastai.vision.all import *\n",
        "from fastai.vision.widgets import *\n",
        "!pip install voila"
      ],
      "execution_count": null,
      "outputs": [
        {
          "output_type": "stream",
          "text": [
            "Collecting voila\n",
            "\u001b[?25l  Downloading https://files.pythonhosted.org/packages/50/7d/ef470f3d3c574162bb8705b264f4cb47eac8c923f6bf1e37283f871ead6a/voila-0.2.4-py3-none-any.whl (1.9MB)\n",
            "\u001b[K     |████████████████████████████████| 1.9MB 5.5MB/s \n",
            "\u001b[?25hRequirement already satisfied: nbclient<0.6,>=0.4.0 in /usr/local/lib/python3.6/dist-packages (from voila) (0.5.1)\n",
            "Collecting jupyter-client<7,>=6.1.3\n",
            "\u001b[?25l  Downloading https://files.pythonhosted.org/packages/dc/41/9fa443d5ae8907dd8f7d12146cb0092dc053afd67b5b57e7e8786a328547/jupyter_client-6.1.7-py3-none-any.whl (108kB)\n",
            "\u001b[K     |████████████████████████████████| 112kB 46.3MB/s \n",
            "\u001b[?25hCollecting nbconvert<7,>=6.0.0\n",
            "\u001b[?25l  Downloading https://files.pythonhosted.org/packages/13/2f/acbe7006548f3914456ee47f97a2033b1b2f3daf921b12ac94105d87c163/nbconvert-6.0.7-py3-none-any.whl (552kB)\n",
            "\u001b[K     |████████████████████████████████| 552kB 44.7MB/s \n",
            "\u001b[?25hCollecting jupyter-server<2.0.0,>=0.3.0\n",
            "\u001b[?25l  Downloading https://files.pythonhosted.org/packages/4c/f5/eb6e35615f2fa56f9dad0d48acad135bdaae986337a81ed52106ea719b96/jupyter_server-1.1.0-py3-none-any.whl (227kB)\n",
            "\u001b[K     |████████████████████████████████| 235kB 45.0MB/s \n",
            "\u001b[?25hRequirement already satisfied: async-generator in /usr/local/lib/python3.6/dist-packages (from nbclient<0.6,>=0.4.0->voila) (1.10)\n",
            "Requirement already satisfied: traitlets>=4.2 in /usr/local/lib/python3.6/dist-packages (from nbclient<0.6,>=0.4.0->voila) (4.3.3)\n",
            "Requirement already satisfied: nest-asyncio in /usr/local/lib/python3.6/dist-packages (from nbclient<0.6,>=0.4.0->voila) (1.4.3)\n",
            "Requirement already satisfied: nbformat>=5.0 in /usr/local/lib/python3.6/dist-packages (from nbclient<0.6,>=0.4.0->voila) (5.0.8)\n",
            "Requirement already satisfied: jupyter-core>=4.6.0 in /usr/local/lib/python3.6/dist-packages (from jupyter-client<7,>=6.1.3->voila) (4.7.0)\n",
            "Requirement already satisfied: tornado>=4.1 in /usr/local/lib/python3.6/dist-packages (from jupyter-client<7,>=6.1.3->voila) (5.1.1)\n",
            "Requirement already satisfied: pyzmq>=13 in /usr/local/lib/python3.6/dist-packages (from jupyter-client<7,>=6.1.3->voila) (20.0.0)\n",
            "Requirement already satisfied: python-dateutil>=2.1 in /usr/local/lib/python3.6/dist-packages (from jupyter-client<7,>=6.1.3->voila) (2.8.1)\n",
            "Requirement already satisfied: defusedxml in /usr/local/lib/python3.6/dist-packages (from nbconvert<7,>=6.0.0->voila) (0.6.0)\n",
            "Requirement already satisfied: pygments>=2.4.1 in /usr/local/lib/python3.6/dist-packages (from nbconvert<7,>=6.0.0->voila) (2.6.1)\n",
            "Requirement already satisfied: mistune<2,>=0.8.1 in /usr/local/lib/python3.6/dist-packages (from nbconvert<7,>=6.0.0->voila) (0.8.4)\n",
            "Requirement already satisfied: entrypoints>=0.2.2 in /usr/local/lib/python3.6/dist-packages (from nbconvert<7,>=6.0.0->voila) (0.3)\n",
            "Requirement already satisfied: jupyterlab-pygments in /usr/local/lib/python3.6/dist-packages (from nbconvert<7,>=6.0.0->voila) (0.1.2)\n",
            "Requirement already satisfied: pandocfilters>=1.4.1 in /usr/local/lib/python3.6/dist-packages (from nbconvert<7,>=6.0.0->voila) (1.4.3)\n",
            "Requirement already satisfied: jinja2>=2.4 in /usr/local/lib/python3.6/dist-packages (from nbconvert<7,>=6.0.0->voila) (2.11.2)\n",
            "Requirement already satisfied: testpath in /usr/local/lib/python3.6/dist-packages (from nbconvert<7,>=6.0.0->voila) (0.4.4)\n",
            "Requirement already satisfied: bleach in /usr/local/lib/python3.6/dist-packages (from nbconvert<7,>=6.0.0->voila) (3.2.1)\n",
            "Requirement already satisfied: Send2Trash in /usr/local/lib/python3.6/dist-packages (from jupyter-server<2.0.0,>=0.3.0->voila) (1.5.0)\n",
            "Requirement already satisfied: prometheus-client in /usr/local/lib/python3.6/dist-packages (from jupyter-server<2.0.0,>=0.3.0->voila) (0.9.0)\n",
            "Requirement already satisfied: ipython-genutils in /usr/local/lib/python3.6/dist-packages (from jupyter-server<2.0.0,>=0.3.0->voila) (0.2.0)\n",
            "Requirement already satisfied: terminado>=0.8.3 in /usr/local/lib/python3.6/dist-packages (from jupyter-server<2.0.0,>=0.3.0->voila) (0.9.1)\n",
            "Collecting anyio>=2.0.2\n",
            "\u001b[?25l  Downloading https://files.pythonhosted.org/packages/d7/83/0585a2bafc0898a07f491a001520db9a7b1aaca2369f99590ff2bfe9067a/anyio-2.0.2-py3-none-any.whl (62kB)\n",
            "\u001b[K     |████████████████████████████████| 71kB 7.1MB/s \n",
            "\u001b[?25hRequirement already satisfied: six in /usr/local/lib/python3.6/dist-packages (from traitlets>=4.2->nbclient<0.6,>=0.4.0->voila) (1.15.0)\n",
            "Requirement already satisfied: decorator in /usr/local/lib/python3.6/dist-packages (from traitlets>=4.2->nbclient<0.6,>=0.4.0->voila) (4.4.2)\n",
            "Requirement already satisfied: jsonschema!=2.5.0,>=2.4 in /usr/local/lib/python3.6/dist-packages (from nbformat>=5.0->nbclient<0.6,>=0.4.0->voila) (2.6.0)\n",
            "Requirement already satisfied: MarkupSafe>=0.23 in /usr/local/lib/python3.6/dist-packages (from jinja2>=2.4->nbconvert<7,>=6.0.0->voila) (1.1.1)\n",
            "Requirement already satisfied: webencodings in /usr/local/lib/python3.6/dist-packages (from bleach->nbconvert<7,>=6.0.0->voila) (0.5.1)\n",
            "Requirement already satisfied: packaging in /usr/local/lib/python3.6/dist-packages (from bleach->nbconvert<7,>=6.0.0->voila) (20.7)\n",
            "Requirement already satisfied: ptyprocess; os_name != \"nt\" in /usr/local/lib/python3.6/dist-packages (from terminado>=0.8.3->jupyter-server<2.0.0,>=0.3.0->voila) (0.6.0)\n",
            "Requirement already satisfied: idna>=2.8 in /usr/local/lib/python3.6/dist-packages (from anyio>=2.0.2->jupyter-server<2.0.0,>=0.3.0->voila) (2.10)\n",
            "Requirement already satisfied: dataclasses; python_version < \"3.7\" in /usr/local/lib/python3.6/dist-packages (from anyio>=2.0.2->jupyter-server<2.0.0,>=0.3.0->voila) (0.8)\n",
            "Requirement already satisfied: typing-extensions; python_version < \"3.8\" in /usr/local/lib/python3.6/dist-packages (from anyio>=2.0.2->jupyter-server<2.0.0,>=0.3.0->voila) (3.7.4.3)\n",
            "Collecting sniffio>=1.1\n",
            "  Downloading https://files.pythonhosted.org/packages/52/b0/7b2e028b63d092804b6794595871f936aafa5e9322dcaaad50ebf67445b3/sniffio-1.2.0-py3-none-any.whl\n",
            "Requirement already satisfied: pyparsing>=2.0.2 in /usr/local/lib/python3.6/dist-packages (from packaging->bleach->nbconvert<7,>=6.0.0->voila) (2.4.7)\n",
            "Collecting contextvars>=2.1; python_version < \"3.7\"\n",
            "  Downloading https://files.pythonhosted.org/packages/83/96/55b82d9f13763be9d672622e1b8106c85acb83edd7cc2fa5bc67cd9877e9/contextvars-2.4.tar.gz\n",
            "Collecting immutables>=0.9\n",
            "\u001b[?25l  Downloading https://files.pythonhosted.org/packages/99/e0/ea6fd4697120327d26773b5a84853f897a68e33d3f9376b00a8ff96e4f63/immutables-0.14-cp36-cp36m-manylinux1_x86_64.whl (98kB)\n",
            "\u001b[K     |████████████████████████████████| 102kB 9.6MB/s \n",
            "\u001b[?25hBuilding wheels for collected packages: contextvars\n",
            "  Building wheel for contextvars (setup.py) ... \u001b[?25l\u001b[?25hdone\n",
            "  Created wheel for contextvars: filename=contextvars-2.4-cp36-none-any.whl size=7666 sha256=f8ce8c482efddb568a3491e47f42211b72832b74b35bcae82611250e60c7c0dd\n",
            "  Stored in directory: /root/.cache/pip/wheels/a5/7d/68/1ebae2668bda2228686e3c1cf16f2c2384cea6e9334ad5f6de\n",
            "Successfully built contextvars\n",
            "\u001b[31mERROR: nbdev 1.1.5 has requirement nbconvert<6, but you'll have nbconvert 6.0.7 which is incompatible.\u001b[0m\n",
            "\u001b[31mERROR: jupyter-server 1.1.0 has requirement tornado>=6.1.0, but you'll have tornado 5.1.1 which is incompatible.\u001b[0m\n",
            "Installing collected packages: jupyter-client, nbconvert, immutables, contextvars, sniffio, anyio, jupyter-server, voila\n",
            "  Found existing installation: jupyter-client 5.3.5\n",
            "    Uninstalling jupyter-client-5.3.5:\n",
            "      Successfully uninstalled jupyter-client-5.3.5\n",
            "  Found existing installation: nbconvert 5.6.1\n",
            "    Uninstalling nbconvert-5.6.1:\n",
            "      Successfully uninstalled nbconvert-5.6.1\n",
            "Successfully installed anyio-2.0.2 contextvars-2.4 immutables-0.14 jupyter-client-6.1.7 jupyter-server-1.1.0 nbconvert-6.0.7 sniffio-1.2.0 voila-0.2.4\n"
          ],
          "name": "stdout"
        },
        {
          "output_type": "display_data",
          "data": {
            "application/vnd.colab-display-data+json": {
              "pip_warning": {
                "packages": [
                  "jupyter_client",
                  "nbconvert"
                ]
              }
            }
          },
          "metadata": {
            "tags": []
          }
        }
      ]
    },
    {
      "cell_type": "code",
      "metadata": {
        "colab": {
          "base_uri": "https://localhost:8080/"
        },
        "id": "0-YNUCkyF_EF",
        "outputId": "b421170e-ded3-4561-87f5-63d7658c430e"
      },
      "source": [
        "from google.colab import drive\n",
        "drive.mount('/content/gdrive',force_remount=True)\n",
        "path=Path('/content/gdrive/My Drive//Colab Notebooks/Galletas')\n",
        "#path.ls\n"
      ],
      "execution_count": null,
      "outputs": [
        {
          "output_type": "stream",
          "text": [
            "Mounted at /content/gdrive\n"
          ],
          "name": "stdout"
        },
        {
          "output_type": "execute_result",
          "data": {
            "text/plain": [
              "<bound method Path.ls of Path('/content/gdrive/My Drive/Colab Notebooks/Galletas')>"
            ]
          },
          "metadata": {
            "tags": []
          },
          "execution_count": 31
        }
      ]
    },
    {
      "cell_type": "code",
      "metadata": {
        "id": "AmJd_fVVr8kd",
        "colab": {
          "base_uri": "https://localhost:8080/"
        },
        "outputId": "c91243ea-2d04-47c5-d730-4cfc225c4953"
      },
      "source": [
        "#fns = get_image_files(path)"
      ],
      "execution_count": null,
      "outputs": [
        {
          "output_type": "execute_result",
          "data": {
            "text/plain": [
              "(#52) [Path('/content/gdrive/My Drive/Colab Notebooks/Galletas/Feas/ugly-cookies.jpg'),Path('/content/gdrive/My Drive/Colab Notebooks/Galletas/Feas/icecookies6-5a0f86899e94270037d9b4c8-5b043d4f43a10300381334be.jpg'),Path('/content/gdrive/My Drive/Colab Notebooks/Galletas/Feas/gingerbread-man-cookie-vertical-a-1800.jpg'),Path('/content/gdrive/My Drive/Colab Notebooks/Galletas/Feas/homemade-gingerbread-stars.jpg'),Path('/content/gdrive/My Drive/Colab Notebooks/Galletas/Feas/imahges.jpeg'),Path('/content/gdrive/My Drive/Colab Notebooks/Galletas/Feas/christmas-sugar-cookies-featured-1024x768.jpg'),Path('/content/gdrive/My Drive/Colab Notebooks/Galletas/Feas/image1.jpg'),Path('/content/gdrive/My Drive/Colab Notebooks/Galletas/Feas/exps21624_CC153599C01_09_3b-696x696.jpg'),Path('/content/gdrive/My Drive/Colab Notebooks/Galletas/Feas/imaggges.jpeg'),Path('/content/gdrive/My Drive/Colab Notebooks/Galletas/Feas/gg.jpeg')...]"
            ]
          },
          "metadata": {
            "tags": []
          },
          "execution_count": 32
        }
      ]
    },
    {
      "cell_type": "code",
      "metadata": {
        "id": "rpmar-_HJGua"
      },
      "source": [
        "#galletas = DataBlock(\n",
        "    blocks=(ImageBlock, CategoryBlock), \n",
        "    get_items=get_image_files, \n",
        "    splitter=RandomSplitter(valid_pct=0.2, seed=42),\n",
        "    get_y=parent_label,\n",
        "    item_tfms=Resize(128))"
      ],
      "execution_count": null,
      "outputs": []
    },
    {
      "cell_type": "code",
      "metadata": {
        "id": "KzitgtPjrZ3g"
      },
      "source": [
        "#dls = galletas.dataloaders(path)"
      ],
      "execution_count": null,
      "outputs": []
    },
    {
      "cell_type": "code",
      "metadata": {
        "colab": {
          "base_uri": "https://localhost:8080/",
          "height": 403,
          "referenced_widgets": [
            "7f8ee72d13ab47079b4d5c7000a77930",
            "5b7a1f8768cd47dea6172e5d4c07f2f0",
            "74791c18170c4bff80521b63e4052b97",
            "28eea41ec4f04e52bcfceb8375754a62",
            "09869338ee4449a6b386d4ca8c96ac86",
            "8d21fe82c6fd4defb269ffdc9052f64d",
            "9c6bc25edd1649319f356061115a27c8",
            "96581433aa204d2997e70bc225877445"
          ]
        },
        "id": "pftY475esYTV",
        "outputId": "37711017-1d3a-48b0-b974-d876d3fc6115"
      },
      "source": [
        "#galletas = galletas.new(\n",
        "#    item_tfms=RandomResizedCrop(224, min_scale=0.5),\n",
        "#    batch_tfms=aug_transforms())\n",
        "#dls = galletas.dataloaders(path)\n",
        "#\n",
        "#learn = cnn_learner(dls, resnet18, metrics=error_rate)\n",
        "#learn.fine_tune(6)"
      ],
      "execution_count": null,
      "outputs": [
        {
          "output_type": "stream",
          "text": [
            "Downloading: \"https://download.pytorch.org/models/resnet18-5c106cde.pth\" to /root/.cache/torch/hub/checkpoints/resnet18-5c106cde.pth\n"
          ],
          "name": "stderr"
        },
        {
          "output_type": "display_data",
          "data": {
            "application/vnd.jupyter.widget-view+json": {
              "model_id": "7f8ee72d13ab47079b4d5c7000a77930",
              "version_minor": 0,
              "version_major": 2
            },
            "text/plain": [
              "HBox(children=(FloatProgress(value=0.0, max=46827520.0), HTML(value='')))"
            ]
          },
          "metadata": {
            "tags": []
          }
        },
        {
          "output_type": "stream",
          "text": [
            "\n"
          ],
          "name": "stdout"
        },
        {
          "output_type": "display_data",
          "data": {
            "text/html": [
              "<table border=\"1\" class=\"dataframe\">\n",
              "  <thead>\n",
              "    <tr style=\"text-align: left;\">\n",
              "      <th>epoch</th>\n",
              "      <th>train_loss</th>\n",
              "      <th>valid_loss</th>\n",
              "      <th>error_rate</th>\n",
              "      <th>time</th>\n",
              "    </tr>\n",
              "  </thead>\n",
              "  <tbody>\n",
              "    <tr>\n",
              "      <td>0</td>\n",
              "      <td>nan</td>\n",
              "      <td>1.114389</td>\n",
              "      <td>0.500000</td>\n",
              "      <td>00:11</td>\n",
              "    </tr>\n",
              "  </tbody>\n",
              "</table>"
            ],
            "text/plain": [
              "<IPython.core.display.HTML object>"
            ]
          },
          "metadata": {
            "tags": []
          }
        },
        {
          "output_type": "stream",
          "text": [
            "/usr/local/lib/python3.6/dist-packages/fastprogress/fastprogress.py:74: UserWarning: Your generator is empty.\n",
            "  warn(\"Your generator is empty.\")\n"
          ],
          "name": "stderr"
        },
        {
          "output_type": "display_data",
          "data": {
            "text/html": [
              "<table border=\"1\" class=\"dataframe\">\n",
              "  <thead>\n",
              "    <tr style=\"text-align: left;\">\n",
              "      <th>epoch</th>\n",
              "      <th>train_loss</th>\n",
              "      <th>valid_loss</th>\n",
              "      <th>error_rate</th>\n",
              "      <th>time</th>\n",
              "    </tr>\n",
              "  </thead>\n",
              "  <tbody>\n",
              "    <tr>\n",
              "      <td>0</td>\n",
              "      <td>nan</td>\n",
              "      <td>1.114389</td>\n",
              "      <td>0.500000</td>\n",
              "      <td>00:02</td>\n",
              "    </tr>\n",
              "    <tr>\n",
              "      <td>1</td>\n",
              "      <td>nan</td>\n",
              "      <td>1.114389</td>\n",
              "      <td>0.500000</td>\n",
              "      <td>00:02</td>\n",
              "    </tr>\n",
              "    <tr>\n",
              "      <td>2</td>\n",
              "      <td>nan</td>\n",
              "      <td>1.114389</td>\n",
              "      <td>0.500000</td>\n",
              "      <td>00:02</td>\n",
              "    </tr>\n",
              "    <tr>\n",
              "      <td>3</td>\n",
              "      <td>nan</td>\n",
              "      <td>1.114389</td>\n",
              "      <td>0.500000</td>\n",
              "      <td>00:02</td>\n",
              "    </tr>\n",
              "    <tr>\n",
              "      <td>4</td>\n",
              "      <td>nan</td>\n",
              "      <td>1.114389</td>\n",
              "      <td>0.500000</td>\n",
              "      <td>00:02</td>\n",
              "    </tr>\n",
              "    <tr>\n",
              "      <td>5</td>\n",
              "      <td>nan</td>\n",
              "      <td>1.114389</td>\n",
              "      <td>0.500000</td>\n",
              "      <td>00:02</td>\n",
              "    </tr>\n",
              "  </tbody>\n",
              "</table>"
            ],
            "text/plain": [
              "<IPython.core.display.HTML object>"
            ]
          },
          "metadata": {
            "tags": []
          }
        }
      ]
    },
    {
      "cell_type": "code",
      "metadata": {
        "id": "BfAK778fsnSX"
      },
      "source": [
        "learn.export(os.path.abspath('./my_export.pkl'))"
      ],
      "execution_count": null,
      "outputs": []
    },
    {
      "cell_type": "code",
      "metadata": {
        "id": "7ZBy84JussGd"
      },
      "source": [
        "learn_inf = load_learner(os.path.abspath('./my_export.pkl'),cpu=True)"
      ],
      "execution_count": null,
      "outputs": []
    },
    {
      "cell_type": "code",
      "metadata": {
        "colab": {
          "base_uri": "https://localhost:8080/",
          "height": 49,
          "referenced_widgets": [
            "3827966657584d15890a92d1a0c45e94",
            "c23e7420eecb41f79f107d669d4ea266",
            "d7230f8b07eb4d47bb5527e4314266c3"
          ]
        },
        "id": "2QgaOq4kxTpb",
        "outputId": "3f861437-75f9-444a-c455-ebad3262164d"
      },
      "source": [
        "btn_upload=widgets.FileUpload()\n",
        "btn_upload"
      ],
      "execution_count": null,
      "outputs": [
        {
          "output_type": "display_data",
          "data": {
            "application/vnd.jupyter.widget-view+json": {
              "model_id": "3827966657584d15890a92d1a0c45e94",
              "version_minor": 0,
              "version_major": 2
            },
            "text/plain": [
              "FileUpload(value={}, description='Upload')"
            ]
          },
          "metadata": {
            "tags": []
          }
        }
      ]
    },
    {
      "cell_type": "code",
      "metadata": {
        "id": "PkN3r6DXxlJh"
      },
      "source": [
        "img = PILImage.create(btn_upload.data[-1])"
      ],
      "execution_count": null,
      "outputs": []
    },
    {
      "cell_type": "code",
      "metadata": {
        "colab": {
          "base_uri": "https://localhost:8080/",
          "height": 34
        },
        "id": "zrYGLC5Nxm_o",
        "outputId": "8c327a05-2dbc-4def-f1f0-6eaae8e91fd7"
      },
      "source": [
        "proba=learn_inf.predict(img)\n",
        "proba"
      ],
      "execution_count": null,
      "outputs": [
        {
          "output_type": "display_data",
          "data": {
            "text/html": [
              ""
            ],
            "text/plain": [
              "<IPython.core.display.HTML object>"
            ]
          },
          "metadata": {
            "tags": []
          }
        },
        {
          "output_type": "execute_result",
          "data": {
            "text/plain": [
              "('Bonitas', tensor(0), tensor([0.5565, 0.4435]))"
            ]
          },
          "metadata": {
            "tags": []
          },
          "execution_count": 83
        }
      ]
    },
    {
      "cell_type": "code",
      "metadata": {
        "id": "p_EeXB8bsyg0"
      },
      "source": [
        "button=widgets.FileUpload()\n",
        "out=widgets.Output()\n",
        "prediction=widgets.Label()"
      ],
      "execution_count": null,
      "outputs": []
    },
    {
      "cell_type": "code",
      "metadata": {
        "id": "fexxPSEutIhL"
      },
      "source": [
        "def click(change):\n",
        "  img=PILImage.create(button.data[-1])\n",
        "  out.clear_output()\n",
        "  with out:display(img.to_thumb(120,120))\n",
        "  pred,index,proba=learn_inf.predict(img)\n",
        "  prediction.value=f'Se define como una de las galletas {pred}, y esto con una confianza de {proba[index]}'"
      ],
      "execution_count": null,
      "outputs": []
    },
    {
      "cell_type": "code",
      "metadata": {
        "colab": {
          "base_uri": "https://localhost:8080/",
          "height": 233,
          "referenced_widgets": [
            "5d92b83cf9ad41bc8c3dc5d26196dc67",
            "988dd976c6324f2e95d2a40dc06838d6",
            "74e101b6caaa4e8ebf0d676c6a4ea178",
            "c8828451fc7f4d87bb16782c0e34fd73",
            "83ca5c1b65b848e1aa845044684ac99a",
            "d69ec5e17a6d45e79ac9908101d67281",
            "ef434a3c90cc4be7afa2d0594666a4a1",
            "b3201f52fc974fac8a336d98a0d2549f",
            "4bce8b6b620645ac96c51775c15d3bbf",
            "814330796b804e84a53de973a8208194",
            "a53663d17ec74e48b2dc2c7c6d0a992d",
            "5e4f9d2585ec446c8af302d9b9dbd5ee",
            "4dc3bfdac81c490b992063e663ce5a43"
          ]
        },
        "id": "w_UTVRu7uNMq",
        "outputId": "358bdf78-1154-43bc-a207-382072c520a4"
      },
      "source": [
        "button.observe(click,names=['data'])\n",
        "display(VBox([widgets.Label('Ingrese una Galleta'),button,out,prediction]))"
      ],
      "execution_count": null,
      "outputs": [
        {
          "output_type": "display_data",
          "data": {
            "application/vnd.jupyter.widget-view+json": {
              "model_id": "5d92b83cf9ad41bc8c3dc5d26196dc67",
              "version_minor": 0,
              "version_major": 2
            },
            "text/plain": [
              "VBox(children=(Label(value='Ingrese una Galleta'), FileUpload(value={}, description='Upload'), Output(), Label…"
            ]
          },
          "metadata": {
            "tags": []
          }
        },
        {
          "output_type": "display_data",
          "data": {
            "text/html": [
              ""
            ],
            "text/plain": [
              "<IPython.core.display.HTML object>"
            ]
          },
          "metadata": {
            "tags": []
          }
        }
      ]
    }
  ]
}
