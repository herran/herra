{
  "nbformat": 4,
  "nbformat_minor": 0,
  "metadata": {
    "colab": {
      "name": "Clasificadora de Galletas de Navidad",
      "provenance": []
    },
    "kernelspec": {
      "name": "python3",
      "display_name": "Python 3"
    }
  },
  "cells": [
    {
      "cell_type": "markdown",
      "metadata": {
        "id": "D61DYqKloUGW"
      },
      "source": [
        "# El clasificador de galletas navideñas\n",
        "Es una aplicación de visión de computadora basada en la arquitectura de redes convulosionales de resnet y la librería de Fast.ai. Con el gran poder de decidir, sin preferencias, que galletas son bonitas o feas, algo muy importante en estas fechas. Solo agrega el archivo al botón y se clasificará inmediatamente con una confianza asociada, esta confianza corresponde a cuan seguro está el modelo de su decisión."
      ]
    },
    {
      "cell_type": "code",
      "metadata": {
        "id": "n4-6cDJCF4CO"
      },
      "source": [
        "from fastai.vision.all import *\n",
        "from fastai.vision.widgets import *\n",
        "#!pip install voila"
      ],
      "execution_count": null,
      "outputs": []
    },
    {
      "cell_type": "code",
      "metadata": {
        "id": "0-YNUCkyF_EF"
      },
      "source": [
        "from google.colab import drive\n",
        "drive.mount('/content/gdrive',force_remount=True)\n",
        "path=Path('/content/gdrive/My Drive//Colab Notebooks/Galletas')\n",
        "#path.ls\n"
      ],
      "execution_count": null,
      "outputs": []
    },
    {
      "cell_type": "code",
      "metadata": {
        "id": "AmJd_fVVr8kd"
      },
      "source": [
        "#fns = get_image_files(path)"
      ],
      "execution_count": null,
      "outputs": []
    },
    {
      "cell_type": "code",
      "metadata": {
        "id": "rpmar-_HJGua"
      },
      "source": [
        "#galletas = DataBlock(\n",
        "    blocks=(ImageBlock, CategoryBlock), \n",
        "    get_items=get_image_files, \n",
        "    splitter=RandomSplitter(valid_pct=0.2, seed=42),\n",
        "    get_y=parent_label,\n",
        "    item_tfms=Resize(128))"
      ],
      "execution_count": 33,
      "outputs": []
    },
    {
      "cell_type": "code",
      "metadata": {
        "id": "KzitgtPjrZ3g"
      },
      "source": [
        "#dls = galletas.dataloaders(path)"
      ],
      "execution_count": 34,
      "outputs": []
    },
    {
      "cell_type": "code",
      "metadata": {
        "id": "pftY475esYTV"
      },
      "source": [
        "#galletas = galletas.new(\n",
        "#    item_tfms=RandomResizedCrop(224, min_scale=0.5),\n",
        "#    batch_tfms=aug_transforms())\n",
        "#dls = galletas.dataloaders(path)\n",
        "#\n",
        "#learn = cnn_learner(dls, resnet18, metrics=error_rate)\n",
        "#learn.fine_tune(6)"
      ],
      "execution_count": null,
      "outputs": []
    },
    {
      "cell_type": "code",
      "metadata": {
        "id": "BfAK778fsnSX"
      },
      "source": [
        "learn.export(os.path.abspath('./my_export.pkl'))"
      ],
      "execution_count": 110,
      "outputs": []
    },
    {
      "cell_type": "code",
      "metadata": {
        "id": "7ZBy84JussGd"
      },
      "source": [
        "learn_inf = load_learner(os.path.abspath('./my_export.pkl'),cpu=True)"
      ],
      "execution_count": 111,
      "outputs": []
    },
    {
      "cell_type": "code",
      "metadata": {
        "id": "p_EeXB8bsyg0"
      },
      "source": [
        "button=widgets.FileUpload()\n",
        "out=widgets.Output()\n",
        "prediction=widgets.Label()"
      ],
      "execution_count": 113,
      "outputs": []
    },
    {
      "cell_type": "code",
      "metadata": {
        "id": "fexxPSEutIhL"
      },
      "source": [
        "def click(change):\n",
        "  img=PILImage.create(button.data[-1])\n",
        "  out.clear_output()\n",
        "  with out:display(img.to_thumb(120,120))\n",
        "  pred,index,proba=learn_inf.predict(img)\n",
        "  prediction.value=f'Se define como una de las galletas {pred}, y esto con una confianza de {proba[index]}'"
      ],
      "execution_count": 114,
      "outputs": []
    },
    {
      "cell_type": "code",
      "metadata": {
        "id": "w_UTVRu7uNMq"
      },
      "source": [
        "button.observe(click,names=['data'])\n",
        "display(VBox([widgets.Label('Ingrese una Galleta'),button,out,prediction]))"
      ],
      "execution_count": null,
      "outputs": []
    }
  ]
}
