{
  "nbformat": 4,
  "nbformat_minor": 0,
  "metadata": {
    "colab": {
      "name": "Clasificadora de Galletas de Navidad",
      "provenance": []
    },
    "kernelspec": {
      "name": "python3",
      "display_name": "Python 3"
    },
    "widgets": {
      "application/vnd.jupyter.widget-state+json": {
        "660c2254c2914120b133e3677115a842": {
          "model_module": "@jupyter-widgets/controls",
          "model_name": "HBoxModel",
          "state": {
            "_view_name": "HBoxView",
            "_dom_classes": [],
            "_model_name": "HBoxModel",
            "_view_module": "@jupyter-widgets/controls",
            "_model_module_version": "1.5.0",
            "_view_count": null,
            "_view_module_version": "1.5.0",
            "box_style": "",
            "layout": "IPY_MODEL_70273b5798424436b485d4fc148a9cd8",
            "_model_module": "@jupyter-widgets/controls",
            "children": [
              "IPY_MODEL_49da8daceeb54671ab7faa61f42b902f",
              "IPY_MODEL_ae7fb3379cca47d9b09df978b257eb3d"
            ]
          }
        },
        "70273b5798424436b485d4fc148a9cd8": {
          "model_module": "@jupyter-widgets/base",
          "model_name": "LayoutModel",
          "state": {
            "_view_name": "LayoutView",
            "grid_template_rows": null,
            "right": null,
            "justify_content": null,
            "_view_module": "@jupyter-widgets/base",
            "overflow": null,
            "_model_module_version": "1.2.0",
            "_view_count": null,
            "flex_flow": null,
            "width": null,
            "min_width": null,
            "border": null,
            "align_items": null,
            "bottom": null,
            "_model_module": "@jupyter-widgets/base",
            "top": null,
            "grid_column": null,
            "overflow_y": null,
            "overflow_x": null,
            "grid_auto_flow": null,
            "grid_area": null,
            "grid_template_columns": null,
            "flex": null,
            "_model_name": "LayoutModel",
            "justify_items": null,
            "grid_row": null,
            "max_height": null,
            "align_content": null,
            "visibility": null,
            "align_self": null,
            "height": null,
            "min_height": null,
            "padding": null,
            "grid_auto_rows": null,
            "grid_gap": null,
            "max_width": null,
            "order": null,
            "_view_module_version": "1.2.0",
            "grid_template_areas": null,
            "object_position": null,
            "object_fit": null,
            "grid_auto_columns": null,
            "margin": null,
            "display": null,
            "left": null
          }
        },
        "49da8daceeb54671ab7faa61f42b902f": {
          "model_module": "@jupyter-widgets/controls",
          "model_name": "FloatProgressModel",
          "state": {
            "_view_name": "ProgressView",
            "style": "IPY_MODEL_b670651e3702416c9de1f2fa0901180f",
            "_dom_classes": [],
            "description": "100%",
            "_model_name": "FloatProgressModel",
            "bar_style": "success",
            "max": 46827520,
            "_view_module": "@jupyter-widgets/controls",
            "_model_module_version": "1.5.0",
            "value": 46827520,
            "_view_count": null,
            "_view_module_version": "1.5.0",
            "orientation": "horizontal",
            "min": 0,
            "description_tooltip": null,
            "_model_module": "@jupyter-widgets/controls",
            "layout": "IPY_MODEL_f9bf4d87fc3245898005f68faebf908b"
          }
        },
        "ae7fb3379cca47d9b09df978b257eb3d": {
          "model_module": "@jupyter-widgets/controls",
          "model_name": "HTMLModel",
          "state": {
            "_view_name": "HTMLView",
            "style": "IPY_MODEL_a162ffd3f7b74ee6842e62f7b1d8bbb2",
            "_dom_classes": [],
            "description": "",
            "_model_name": "HTMLModel",
            "placeholder": "​",
            "_view_module": "@jupyter-widgets/controls",
            "_model_module_version": "1.5.0",
            "value": " 44.7M/44.7M [00:33&lt;00:00, 1.40MB/s]",
            "_view_count": null,
            "_view_module_version": "1.5.0",
            "description_tooltip": null,
            "_model_module": "@jupyter-widgets/controls",
            "layout": "IPY_MODEL_fa311b1ebb3e4164b02ae3e5a633f8d8"
          }
        },
        "b670651e3702416c9de1f2fa0901180f": {
          "model_module": "@jupyter-widgets/controls",
          "model_name": "ProgressStyleModel",
          "state": {
            "_view_name": "StyleView",
            "_model_name": "ProgressStyleModel",
            "description_width": "initial",
            "_view_module": "@jupyter-widgets/base",
            "_model_module_version": "1.5.0",
            "_view_count": null,
            "_view_module_version": "1.2.0",
            "bar_color": null,
            "_model_module": "@jupyter-widgets/controls"
          }
        },
        "f9bf4d87fc3245898005f68faebf908b": {
          "model_module": "@jupyter-widgets/base",
          "model_name": "LayoutModel",
          "state": {
            "_view_name": "LayoutView",
            "grid_template_rows": null,
            "right": null,
            "justify_content": null,
            "_view_module": "@jupyter-widgets/base",
            "overflow": null,
            "_model_module_version": "1.2.0",
            "_view_count": null,
            "flex_flow": null,
            "width": null,
            "min_width": null,
            "border": null,
            "align_items": null,
            "bottom": null,
            "_model_module": "@jupyter-widgets/base",
            "top": null,
            "grid_column": null,
            "overflow_y": null,
            "overflow_x": null,
            "grid_auto_flow": null,
            "grid_area": null,
            "grid_template_columns": null,
            "flex": null,
            "_model_name": "LayoutModel",
            "justify_items": null,
            "grid_row": null,
            "max_height": null,
            "align_content": null,
            "visibility": null,
            "align_self": null,
            "height": null,
            "min_height": null,
            "padding": null,
            "grid_auto_rows": null,
            "grid_gap": null,
            "max_width": null,
            "order": null,
            "_view_module_version": "1.2.0",
            "grid_template_areas": null,
            "object_position": null,
            "object_fit": null,
            "grid_auto_columns": null,
            "margin": null,
            "display": null,
            "left": null
          }
        },
        "a162ffd3f7b74ee6842e62f7b1d8bbb2": {
          "model_module": "@jupyter-widgets/controls",
          "model_name": "DescriptionStyleModel",
          "state": {
            "_view_name": "StyleView",
            "_model_name": "DescriptionStyleModel",
            "description_width": "",
            "_view_module": "@jupyter-widgets/base",
            "_model_module_version": "1.5.0",
            "_view_count": null,
            "_view_module_version": "1.2.0",
            "_model_module": "@jupyter-widgets/controls"
          }
        },
        "fa311b1ebb3e4164b02ae3e5a633f8d8": {
          "model_module": "@jupyter-widgets/base",
          "model_name": "LayoutModel",
          "state": {
            "_view_name": "LayoutView",
            "grid_template_rows": null,
            "right": null,
            "justify_content": null,
            "_view_module": "@jupyter-widgets/base",
            "overflow": null,
            "_model_module_version": "1.2.0",
            "_view_count": null,
            "flex_flow": null,
            "width": null,
            "min_width": null,
            "border": null,
            "align_items": null,
            "bottom": null,
            "_model_module": "@jupyter-widgets/base",
            "top": null,
            "grid_column": null,
            "overflow_y": null,
            "overflow_x": null,
            "grid_auto_flow": null,
            "grid_area": null,
            "grid_template_columns": null,
            "flex": null,
            "_model_name": "LayoutModel",
            "justify_items": null,
            "grid_row": null,
            "max_height": null,
            "align_content": null,
            "visibility": null,
            "align_self": null,
            "height": null,
            "min_height": null,
            "padding": null,
            "grid_auto_rows": null,
            "grid_gap": null,
            "max_width": null,
            "order": null,
            "_view_module_version": "1.2.0",
            "grid_template_areas": null,
            "object_position": null,
            "object_fit": null,
            "grid_auto_columns": null,
            "margin": null,
            "display": null,
            "left": null
          }
        },
        "a49c0d06e1a74ee8abb3006a30294f7c": {
          "model_module": "@jupyter-widgets/controls",
          "model_name": "VBoxModel",
          "state": {
            "_view_name": "VBoxView",
            "_dom_classes": [],
            "_model_name": "VBoxModel",
            "_view_module": "@jupyter-widgets/controls",
            "_model_module_version": "1.5.0",
            "_view_count": null,
            "_view_module_version": "1.5.0",
            "box_style": "",
            "layout": "IPY_MODEL_1e1742d23b9a4f6cb0b521e247f235e0",
            "_model_module": "@jupyter-widgets/controls",
            "children": [
              "IPY_MODEL_dc60f3048e324c619aec97f5716dc206",
              "IPY_MODEL_acbbf4ced54a4211aa636c32f4e62a91",
              "IPY_MODEL_03fe88f4f1f6413eaefb547983875925",
              "IPY_MODEL_d2538b471ede44c0a232a66dbf6c857c"
            ]
          }
        },
        "1e1742d23b9a4f6cb0b521e247f235e0": {
          "model_module": "@jupyter-widgets/base",
          "model_name": "LayoutModel",
          "state": {
            "_view_name": "LayoutView",
            "grid_template_rows": null,
            "right": null,
            "justify_content": null,
            "_view_module": "@jupyter-widgets/base",
            "overflow": null,
            "_model_module_version": "1.2.0",
            "_view_count": null,
            "flex_flow": null,
            "width": null,
            "min_width": null,
            "border": null,
            "align_items": null,
            "bottom": null,
            "_model_module": "@jupyter-widgets/base",
            "top": null,
            "grid_column": null,
            "overflow_y": null,
            "overflow_x": null,
            "grid_auto_flow": null,
            "grid_area": null,
            "grid_template_columns": null,
            "flex": null,
            "_model_name": "LayoutModel",
            "justify_items": null,
            "grid_row": null,
            "max_height": null,
            "align_content": null,
            "visibility": null,
            "align_self": null,
            "height": null,
            "min_height": null,
            "padding": null,
            "grid_auto_rows": null,
            "grid_gap": null,
            "max_width": null,
            "order": null,
            "_view_module_version": "1.2.0",
            "grid_template_areas": null,
            "object_position": null,
            "object_fit": null,
            "grid_auto_columns": null,
            "margin": null,
            "display": null,
            "left": null
          }
        },
        "dc60f3048e324c619aec97f5716dc206": {
          "model_module": "@jupyter-widgets/controls",
          "model_name": "LabelModel",
          "state": {
            "_view_name": "LabelView",
            "style": "IPY_MODEL_edf23ce50aa44a51a6f25fd3edb3c757",
            "_dom_classes": [],
            "description": "",
            "_model_name": "LabelModel",
            "placeholder": "​",
            "_view_module": "@jupyter-widgets/controls",
            "_model_module_version": "1.5.0",
            "value": "Ingrese una Galleta",
            "_view_count": null,
            "_view_module_version": "1.5.0",
            "description_tooltip": null,
            "_model_module": "@jupyter-widgets/controls",
            "layout": "IPY_MODEL_0f1a98c044b44c62abd6143e8dc317fa"
          }
        },
        "acbbf4ced54a4211aa636c32f4e62a91": {
          "model_module": "@jupyter-widgets/controls",
          "model_name": "FileUploadModel",
          "state": {
            "_view_name": "FileUploadView",
            "_counter": 1,
            "style": "IPY_MODEL_b5dae76abcfa40a5a67d1025c13c63de",
            "_dom_classes": [],
            "description": "Upload",
            "multiple": false,
            "_model_name": "FileUploadModel",
            "data": [
              null
            ],
            "button_style": "",
            "_view_module": "@jupyter-widgets/controls",
            "_model_module_version": "1.5.0",
            "accept": "",
            "_view_count": null,
            "disabled": false,
            "_view_module_version": "1.5.0",
            "error": "",
            "description_tooltip": null,
            "metadata": [
              {
                "name": "imahges.jpeg",
                "type": "image/jpeg",
                "size": 5792,
                "lastModified": 1608057648000
              }
            ],
            "_model_module": "@jupyter-widgets/controls",
            "layout": "IPY_MODEL_5cf8418a40f24715b504af8da5a9610c",
            "icon": "upload"
          }
        },
        "03fe88f4f1f6413eaefb547983875925": {
          "model_module": "@jupyter-widgets/output",
          "model_name": "OutputModel",
          "state": {
            "_view_name": "OutputView",
            "msg_id": "",
            "_dom_classes": [],
            "_model_name": "OutputModel",
            "outputs": [
              {
                "output_type": "display_data",
                "metadata": {
                  "tags": []
                },
                "image/png": "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\n",
                "text/plain": "<PIL.Image.Image image mode=RGB size=120x120 at 0x7F40FE12C4E0>"
              }
            ],
            "_view_module": "@jupyter-widgets/output",
            "_model_module_version": "1.0.0",
            "_view_count": null,
            "_view_module_version": "1.0.0",
            "layout": "IPY_MODEL_ae800bbf18334e34a1b5c133af1140ef",
            "_model_module": "@jupyter-widgets/output"
          }
        },
        "d2538b471ede44c0a232a66dbf6c857c": {
          "model_module": "@jupyter-widgets/controls",
          "model_name": "LabelModel",
          "state": {
            "_view_name": "LabelView",
            "style": "IPY_MODEL_7cf3451755f84d7084c3447437d1f59a",
            "_dom_classes": [],
            "description": "",
            "_model_name": "LabelModel",
            "placeholder": "​",
            "_view_module": "@jupyter-widgets/controls",
            "_model_module_version": "1.5.0",
            "value": "Se define como una de las galletas Feas, y esto con una confianza de 0.9895860552787781",
            "_view_count": null,
            "_view_module_version": "1.5.0",
            "description_tooltip": null,
            "_model_module": "@jupyter-widgets/controls",
            "layout": "IPY_MODEL_dd706787fcfd4f298878794d5cc10d11"
          }
        },
        "edf23ce50aa44a51a6f25fd3edb3c757": {
          "model_module": "@jupyter-widgets/controls",
          "model_name": "DescriptionStyleModel",
          "state": {
            "_view_name": "StyleView",
            "_model_name": "DescriptionStyleModel",
            "description_width": "",
            "_view_module": "@jupyter-widgets/base",
            "_model_module_version": "1.5.0",
            "_view_count": null,
            "_view_module_version": "1.2.0",
            "_model_module": "@jupyter-widgets/controls"
          }
        },
        "0f1a98c044b44c62abd6143e8dc317fa": {
          "model_module": "@jupyter-widgets/base",
          "model_name": "LayoutModel",
          "state": {
            "_view_name": "LayoutView",
            "grid_template_rows": null,
            "right": null,
            "justify_content": null,
            "_view_module": "@jupyter-widgets/base",
            "overflow": null,
            "_model_module_version": "1.2.0",
            "_view_count": null,
            "flex_flow": null,
            "width": null,
            "min_width": null,
            "border": null,
            "align_items": null,
            "bottom": null,
            "_model_module": "@jupyter-widgets/base",
            "top": null,
            "grid_column": null,
            "overflow_y": null,
            "overflow_x": null,
            "grid_auto_flow": null,
            "grid_area": null,
            "grid_template_columns": null,
            "flex": null,
            "_model_name": "LayoutModel",
            "justify_items": null,
            "grid_row": null,
            "max_height": null,
            "align_content": null,
            "visibility": null,
            "align_self": null,
            "height": null,
            "min_height": null,
            "padding": null,
            "grid_auto_rows": null,
            "grid_gap": null,
            "max_width": null,
            "order": null,
            "_view_module_version": "1.2.0",
            "grid_template_areas": null,
            "object_position": null,
            "object_fit": null,
            "grid_auto_columns": null,
            "margin": null,
            "display": null,
            "left": null
          }
        },
        "b5dae76abcfa40a5a67d1025c13c63de": {
          "model_module": "@jupyter-widgets/controls",
          "model_name": "ButtonStyleModel",
          "state": {
            "_view_name": "StyleView",
            "_model_name": "ButtonStyleModel",
            "_view_module": "@jupyter-widgets/base",
            "_model_module_version": "1.5.0",
            "_view_count": null,
            "button_color": null,
            "font_weight": "",
            "_view_module_version": "1.2.0",
            "_model_module": "@jupyter-widgets/controls"
          }
        },
        "5cf8418a40f24715b504af8da5a9610c": {
          "model_module": "@jupyter-widgets/base",
          "model_name": "LayoutModel",
          "state": {
            "_view_name": "LayoutView",
            "grid_template_rows": null,
            "right": null,
            "justify_content": null,
            "_view_module": "@jupyter-widgets/base",
            "overflow": null,
            "_model_module_version": "1.2.0",
            "_view_count": null,
            "flex_flow": null,
            "width": null,
            "min_width": null,
            "border": null,
            "align_items": null,
            "bottom": null,
            "_model_module": "@jupyter-widgets/base",
            "top": null,
            "grid_column": null,
            "overflow_y": null,
            "overflow_x": null,
            "grid_auto_flow": null,
            "grid_area": null,
            "grid_template_columns": null,
            "flex": null,
            "_model_name": "LayoutModel",
            "justify_items": null,
            "grid_row": null,
            "max_height": null,
            "align_content": null,
            "visibility": null,
            "align_self": null,
            "height": null,
            "min_height": null,
            "padding": null,
            "grid_auto_rows": null,
            "grid_gap": null,
            "max_width": null,
            "order": null,
            "_view_module_version": "1.2.0",
            "grid_template_areas": null,
            "object_position": null,
            "object_fit": null,
            "grid_auto_columns": null,
            "margin": null,
            "display": null,
            "left": null
          }
        },
        "7cf3451755f84d7084c3447437d1f59a": {
          "model_module": "@jupyter-widgets/controls",
          "model_name": "DescriptionStyleModel",
          "state": {
            "_view_name": "StyleView",
            "_model_name": "DescriptionStyleModel",
            "description_width": "",
            "_view_module": "@jupyter-widgets/base",
            "_model_module_version": "1.5.0",
            "_view_count": null,
            "_view_module_version": "1.2.0",
            "_model_module": "@jupyter-widgets/controls"
          }
        },
        "dd706787fcfd4f298878794d5cc10d11": {
          "model_module": "@jupyter-widgets/base",
          "model_name": "LayoutModel",
          "state": {
            "_view_name": "LayoutView",
            "grid_template_rows": null,
            "right": null,
            "justify_content": null,
            "_view_module": "@jupyter-widgets/base",
            "overflow": null,
            "_model_module_version": "1.2.0",
            "_view_count": null,
            "flex_flow": null,
            "width": null,
            "min_width": null,
            "border": null,
            "align_items": null,
            "bottom": null,
            "_model_module": "@jupyter-widgets/base",
            "top": null,
            "grid_column": null,
            "overflow_y": null,
            "overflow_x": null,
            "grid_auto_flow": null,
            "grid_area": null,
            "grid_template_columns": null,
            "flex": null,
            "_model_name": "LayoutModel",
            "justify_items": null,
            "grid_row": null,
            "max_height": null,
            "align_content": null,
            "visibility": null,
            "align_self": null,
            "height": null,
            "min_height": null,
            "padding": null,
            "grid_auto_rows": null,
            "grid_gap": null,
            "max_width": null,
            "order": null,
            "_view_module_version": "1.2.0",
            "grid_template_areas": null,
            "object_position": null,
            "object_fit": null,
            "grid_auto_columns": null,
            "margin": null,
            "display": null,
            "left": null
          }
        },
        "ae800bbf18334e34a1b5c133af1140ef": {
          "model_module": "@jupyter-widgets/base",
          "model_name": "LayoutModel",
          "state": {
            "_view_name": "LayoutView",
            "grid_template_rows": null,
            "right": null,
            "justify_content": null,
            "_view_module": "@jupyter-widgets/base",
            "overflow": null,
            "_model_module_version": "1.2.0",
            "_view_count": null,
            "flex_flow": null,
            "width": null,
            "min_width": null,
            "border": null,
            "align_items": null,
            "bottom": null,
            "_model_module": "@jupyter-widgets/base",
            "top": null,
            "grid_column": null,
            "overflow_y": null,
            "overflow_x": null,
            "grid_auto_flow": null,
            "grid_area": null,
            "grid_template_columns": null,
            "flex": null,
            "_model_name": "LayoutModel",
            "justify_items": null,
            "grid_row": null,
            "max_height": null,
            "align_content": null,
            "visibility": null,
            "align_self": null,
            "height": null,
            "min_height": null,
            "padding": null,
            "grid_auto_rows": null,
            "grid_gap": null,
            "max_width": null,
            "order": null,
            "_view_module_version": "1.2.0",
            "grid_template_areas": null,
            "object_position": null,
            "object_fit": null,
            "grid_auto_columns": null,
            "margin": null,
            "display": null,
            "left": null
          }
        }
      }
    }
  },
  "cells": [
    {
      "cell_type": "markdown",
      "metadata": {
        "id": "D61DYqKloUGW"
      },
      "source": [
        "# El clasificador de galletas navideñas\n",
        "Es una aplicación de visión de computadora basada en la arquitectura de redes convulosionales de resnet. Con el gran poder de decidir, sin preferencias que galletas son bonitas o feas, algo muy importante en estas fechas. Solo agrega el archivo al botón y se clasificará inmediatamente con una confianza asociada, esta confianza corresponde a cuan seguro está el modelo de su decisión."
      ]
    },
    {
      "cell_type": "code",
      "metadata": {
        "id": "n4-6cDJCF4CO",
        "colab": {
          "base_uri": "https://localhost:8080/",
          "height": 1000
        },
        "outputId": "6e89029d-913a-4689-f9e6-9585d472d07d"
      },
      "source": [
        "!pip install fastai\n",
        "!pip install -Uqq fastbook\n",
        "import fastbook\n",
        "fastbook.setup_book()\n",
        "from fastai.vision.all import *\n",
        "from fastai.vision.widgets import *\n",
        "!pip install voila"
      ],
      "execution_count": 5,
      "outputs": [
        {
          "output_type": "stream",
          "text": [
            "Requirement already satisfied: fastai in /usr/local/lib/python3.6/dist-packages (2.1.9)\n",
            "Requirement already satisfied: scipy in /usr/local/lib/python3.6/dist-packages (from fastai) (1.4.1)\n",
            "Requirement already satisfied: torch>=1.7.0 in /usr/local/lib/python3.6/dist-packages (from fastai) (1.7.0+cu101)\n",
            "Requirement already satisfied: pyyaml in /usr/local/lib/python3.6/dist-packages (from fastai) (3.13)\n",
            "Requirement already satisfied: scikit-learn in /usr/local/lib/python3.6/dist-packages (from fastai) (0.22.2.post1)\n",
            "Requirement already satisfied: requests in /usr/local/lib/python3.6/dist-packages (from fastai) (2.23.0)\n",
            "Requirement already satisfied: fastprogress>=0.2.4 in /usr/local/lib/python3.6/dist-packages (from fastai) (1.0.0)\n",
            "Requirement already satisfied: matplotlib in /usr/local/lib/python3.6/dist-packages (from fastai) (3.2.2)\n",
            "Requirement already satisfied: pip in /usr/local/lib/python3.6/dist-packages (from fastai) (19.3.1)\n",
            "Requirement already satisfied: fastcore>=1.3.8 in /usr/local/lib/python3.6/dist-packages (from fastai) (1.3.12)\n",
            "Requirement already satisfied: packaging in /usr/local/lib/python3.6/dist-packages (from fastai) (20.8)\n",
            "Requirement already satisfied: pillow>6.0.0 in /usr/local/lib/python3.6/dist-packages (from fastai) (7.0.0)\n",
            "Requirement already satisfied: pandas in /usr/local/lib/python3.6/dist-packages (from fastai) (1.1.5)\n",
            "Requirement already satisfied: spacy in /usr/local/lib/python3.6/dist-packages (from fastai) (2.2.4)\n",
            "Requirement already satisfied: torchvision>=0.8 in /usr/local/lib/python3.6/dist-packages (from fastai) (0.8.1+cu101)\n",
            "Requirement already satisfied: numpy>=1.13.3 in /usr/local/lib/python3.6/dist-packages (from scipy->fastai) (1.19.4)\n",
            "Requirement already satisfied: dataclasses in /usr/local/lib/python3.6/dist-packages (from torch>=1.7.0->fastai) (0.8)\n",
            "Requirement already satisfied: typing-extensions in /usr/local/lib/python3.6/dist-packages (from torch>=1.7.0->fastai) (3.7.4.3)\n",
            "Requirement already satisfied: future in /usr/local/lib/python3.6/dist-packages (from torch>=1.7.0->fastai) (0.16.0)\n",
            "Requirement already satisfied: joblib>=0.11 in /usr/local/lib/python3.6/dist-packages (from scikit-learn->fastai) (1.0.0)\n",
            "Requirement already satisfied: urllib3!=1.25.0,!=1.25.1,<1.26,>=1.21.1 in /usr/local/lib/python3.6/dist-packages (from requests->fastai) (1.24.3)\n",
            "Requirement already satisfied: certifi>=2017.4.17 in /usr/local/lib/python3.6/dist-packages (from requests->fastai) (2020.12.5)\n",
            "Requirement already satisfied: chardet<4,>=3.0.2 in /usr/local/lib/python3.6/dist-packages (from requests->fastai) (3.0.4)\n",
            "Requirement already satisfied: idna<3,>=2.5 in /usr/local/lib/python3.6/dist-packages (from requests->fastai) (2.10)\n",
            "Requirement already satisfied: cycler>=0.10 in /usr/local/lib/python3.6/dist-packages (from matplotlib->fastai) (0.10.0)\n",
            "Requirement already satisfied: python-dateutil>=2.1 in /usr/local/lib/python3.6/dist-packages (from matplotlib->fastai) (2.8.1)\n",
            "Requirement already satisfied: pyparsing!=2.0.4,!=2.1.2,!=2.1.6,>=2.0.1 in /usr/local/lib/python3.6/dist-packages (from matplotlib->fastai) (2.4.7)\n",
            "Requirement already satisfied: kiwisolver>=1.0.1 in /usr/local/lib/python3.6/dist-packages (from matplotlib->fastai) (1.3.1)\n",
            "Requirement already satisfied: pytz>=2017.2 in /usr/local/lib/python3.6/dist-packages (from pandas->fastai) (2018.9)\n",
            "Requirement already satisfied: preshed<3.1.0,>=3.0.2 in /usr/local/lib/python3.6/dist-packages (from spacy->fastai) (3.0.5)\n",
            "Requirement already satisfied: setuptools in /usr/local/lib/python3.6/dist-packages (from spacy->fastai) (50.3.2)\n",
            "Requirement already satisfied: cymem<2.1.0,>=2.0.2 in /usr/local/lib/python3.6/dist-packages (from spacy->fastai) (2.0.5)\n",
            "Requirement already satisfied: wasabi<1.1.0,>=0.4.0 in /usr/local/lib/python3.6/dist-packages (from spacy->fastai) (0.8.0)\n",
            "Requirement already satisfied: srsly<1.1.0,>=1.0.2 in /usr/local/lib/python3.6/dist-packages (from spacy->fastai) (1.0.5)\n",
            "Requirement already satisfied: blis<0.5.0,>=0.4.0 in /usr/local/lib/python3.6/dist-packages (from spacy->fastai) (0.4.1)\n",
            "Requirement already satisfied: thinc==7.4.0 in /usr/local/lib/python3.6/dist-packages (from spacy->fastai) (7.4.0)\n",
            "Requirement already satisfied: catalogue<1.1.0,>=0.0.7 in /usr/local/lib/python3.6/dist-packages (from spacy->fastai) (1.0.0)\n",
            "Requirement already satisfied: tqdm<5.0.0,>=4.38.0 in /usr/local/lib/python3.6/dist-packages (from spacy->fastai) (4.41.1)\n",
            "Requirement already satisfied: plac<1.2.0,>=0.9.6 in /usr/local/lib/python3.6/dist-packages (from spacy->fastai) (1.1.3)\n",
            "Requirement already satisfied: murmurhash<1.1.0,>=0.28.0 in /usr/local/lib/python3.6/dist-packages (from spacy->fastai) (1.0.5)\n",
            "Requirement already satisfied: six in /usr/local/lib/python3.6/dist-packages (from cycler>=0.10->matplotlib->fastai) (1.15.0)\n",
            "Requirement already satisfied: importlib-metadata>=0.20; python_version < \"3.8\" in /usr/local/lib/python3.6/dist-packages (from catalogue<1.1.0,>=0.0.7->spacy->fastai) (3.3.0)\n",
            "Requirement already satisfied: zipp>=0.5 in /usr/local/lib/python3.6/dist-packages (from importlib-metadata>=0.20; python_version < \"3.8\"->catalogue<1.1.0,>=0.0.7->spacy->fastai) (3.4.0)\n"
          ],
          "name": "stdout"
        },
        {
          "output_type": "error",
          "ename": "ModuleNotFoundError",
          "evalue": "ignored",
          "traceback": [
            "\u001b[0;31m---------------------------------------------------------------------------\u001b[0m",
            "\u001b[0;31mModuleNotFoundError\u001b[0m                       Traceback (most recent call last)",
            "\u001b[0;32m<ipython-input-5-4509fcb41c1c>\u001b[0m in \u001b[0;36m<module>\u001b[0;34m()\u001b[0m\n\u001b[1;32m      1\u001b[0m \u001b[0mget_ipython\u001b[0m\u001b[0;34m(\u001b[0m\u001b[0;34m)\u001b[0m\u001b[0;34m.\u001b[0m\u001b[0msystem\u001b[0m\u001b[0;34m(\u001b[0m\u001b[0;34m'pip install fastai'\u001b[0m\u001b[0;34m)\u001b[0m\u001b[0;34m\u001b[0m\u001b[0;34m\u001b[0m\u001b[0m\n\u001b[1;32m      2\u001b[0m \u001b[0mget_ipython\u001b[0m\u001b[0;34m(\u001b[0m\u001b[0;34m)\u001b[0m\u001b[0;34m.\u001b[0m\u001b[0msystem\u001b[0m\u001b[0;34m(\u001b[0m\u001b[0;34m'pip install -Uqq fastbook'\u001b[0m\u001b[0;34m)\u001b[0m\u001b[0;34m\u001b[0m\u001b[0;34m\u001b[0m\u001b[0m\n\u001b[0;32m----> 3\u001b[0;31m \u001b[0;32mimport\u001b[0m \u001b[0mfastbook\u001b[0m\u001b[0;34m\u001b[0m\u001b[0;34m\u001b[0m\u001b[0m\n\u001b[0m\u001b[1;32m      4\u001b[0m \u001b[0mfastbook\u001b[0m\u001b[0;34m.\u001b[0m\u001b[0msetup_book\u001b[0m\u001b[0;34m(\u001b[0m\u001b[0;34m)\u001b[0m\u001b[0;34m\u001b[0m\u001b[0;34m\u001b[0m\u001b[0m\n\u001b[1;32m      5\u001b[0m \u001b[0;32mfrom\u001b[0m \u001b[0mfastai\u001b[0m\u001b[0;34m.\u001b[0m\u001b[0mvision\u001b[0m\u001b[0;34m.\u001b[0m\u001b[0mall\u001b[0m \u001b[0;32mimport\u001b[0m \u001b[0;34m*\u001b[0m\u001b[0;34m\u001b[0m\u001b[0;34m\u001b[0m\u001b[0m\n",
            "\u001b[0;32m/usr/local/lib/python3.6/dist-packages/fastbook/__init__.py\u001b[0m in \u001b[0;36m<module>\u001b[0;34m()\u001b[0m\n\u001b[1;32m      1\u001b[0m \u001b[0m__version__\u001b[0m \u001b[0;34m=\u001b[0m \u001b[0;34m\"0.0.16\"\u001b[0m\u001b[0;34m\u001b[0m\u001b[0;34m\u001b[0m\u001b[0m\n\u001b[1;32m      2\u001b[0m \u001b[0;32mimport\u001b[0m \u001b[0mmatplotlib\u001b[0m \u001b[0;32mas\u001b[0m \u001b[0mmpl\u001b[0m\u001b[0;34m,\u001b[0m \u001b[0mpkgutil\u001b[0m\u001b[0;34m,\u001b[0m \u001b[0mrequests\u001b[0m\u001b[0;34m,\u001b[0m \u001b[0mtime\u001b[0m\u001b[0;34m\u001b[0m\u001b[0;34m\u001b[0m\u001b[0m\n\u001b[0;32m----> 3\u001b[0;31m \u001b[0;32mfrom\u001b[0m \u001b[0mfastai\u001b[0m\u001b[0;34m.\u001b[0m\u001b[0mvision\u001b[0m\u001b[0;34m.\u001b[0m\u001b[0mall\u001b[0m \u001b[0;32mimport\u001b[0m \u001b[0;34m*\u001b[0m\u001b[0;34m\u001b[0m\u001b[0;34m\u001b[0m\u001b[0m\n\u001b[0m\u001b[1;32m      4\u001b[0m \u001b[0;32mfrom\u001b[0m \u001b[0mpandas\u001b[0m\u001b[0;34m.\u001b[0m\u001b[0mapi\u001b[0m\u001b[0;34m.\u001b[0m\u001b[0mtypes\u001b[0m \u001b[0;32mimport\u001b[0m \u001b[0mCategoricalDtype\u001b[0m\u001b[0;34m\u001b[0m\u001b[0;34m\u001b[0m\u001b[0m\n\u001b[1;32m      5\u001b[0m \u001b[0;32mfrom\u001b[0m \u001b[0mscipy\u001b[0m\u001b[0;34m.\u001b[0m\u001b[0mcluster\u001b[0m \u001b[0;32mimport\u001b[0m \u001b[0mhierarchy\u001b[0m \u001b[0;32mas\u001b[0m \u001b[0mhc\u001b[0m\u001b[0;34m\u001b[0m\u001b[0;34m\u001b[0m\u001b[0m\n",
            "\u001b[0;32m/usr/local/lib/python3.6/dist-packages/fastai/vision/all.py\u001b[0m in \u001b[0;36m<module>\u001b[0;34m()\u001b[0m\n\u001b[1;32m      1\u001b[0m \u001b[0;32mfrom\u001b[0m \u001b[0;34m.\u001b[0m \u001b[0;32mimport\u001b[0m \u001b[0mmodels\u001b[0m\u001b[0;34m\u001b[0m\u001b[0;34m\u001b[0m\u001b[0m\n\u001b[1;32m      2\u001b[0m \u001b[0;32mfrom\u001b[0m \u001b[0;34m.\u001b[0m\u001b[0;34m.\u001b[0m\u001b[0mbasics\u001b[0m \u001b[0;32mimport\u001b[0m \u001b[0;34m*\u001b[0m\u001b[0;34m\u001b[0m\u001b[0;34m\u001b[0m\u001b[0m\n\u001b[0;32m----> 3\u001b[0;31m \u001b[0;32mfrom\u001b[0m \u001b[0;34m.\u001b[0m\u001b[0;34m.\u001b[0m\u001b[0mcallback\u001b[0m\u001b[0;34m.\u001b[0m\u001b[0mall\u001b[0m \u001b[0;32mimport\u001b[0m \u001b[0;34m*\u001b[0m\u001b[0;34m\u001b[0m\u001b[0;34m\u001b[0m\u001b[0m\n\u001b[0m\u001b[1;32m      4\u001b[0m \u001b[0;32mfrom\u001b[0m \u001b[0;34m.\u001b[0m\u001b[0maugment\u001b[0m \u001b[0;32mimport\u001b[0m \u001b[0;34m*\u001b[0m\u001b[0;34m\u001b[0m\u001b[0;34m\u001b[0m\u001b[0m\n\u001b[1;32m      5\u001b[0m \u001b[0;32mfrom\u001b[0m \u001b[0;34m.\u001b[0m\u001b[0mcore\u001b[0m \u001b[0;32mimport\u001b[0m \u001b[0;34m*\u001b[0m\u001b[0;34m\u001b[0m\u001b[0;34m\u001b[0m\u001b[0m\n",
            "\u001b[0;31mModuleNotFoundError\u001b[0m: No module named 'fastai.callback.all'; 'fastai.callback' is not a package",
            "",
            "\u001b[0;31m---------------------------------------------------------------------------\u001b[0;32m\nNOTE: If your import is failing due to a missing package, you can\nmanually install dependencies using either !pip or !apt.\n\nTo view examples of installing some common dependencies, click the\n\"Open Examples\" button below.\n\u001b[0;31m---------------------------------------------------------------------------\u001b[0m\n"
          ]
        }
      ]
    },
    {
      "cell_type": "code",
      "metadata": {
        "id": "CYAMvMPQYQnP",
        "colab": {
          "base_uri": "https://localhost:8080/",
          "height": 1000
        },
        "outputId": "11375f0f-f18c-409b-bcbb-4aec82358e59"
      },
      "source": [
        "!pip install voila"
      ],
      "execution_count": null,
      "outputs": [
        {
          "output_type": "stream",
          "text": [
            "Requirement already satisfied: voila in /usr/local/lib/python3.6/dist-packages (0.2.4)\n",
            "Requirement already satisfied: nbclient<0.6,>=0.4.0 in /usr/local/lib/python3.6/dist-packages (from voila) (0.5.1)\n",
            "Requirement already satisfied: jupyter-server<2.0.0,>=0.3.0 in /usr/local/lib/python3.6/dist-packages (from voila) (1.1.0)\n",
            "Requirement already satisfied: nbconvert<7,>=6.0.0 in /usr/local/lib/python3.6/dist-packages (from voila) (6.0.7)\n",
            "Requirement already satisfied: jupyter-client<7,>=6.1.3 in /usr/local/lib/python3.6/dist-packages (from voila) (6.1.7)\n",
            "Requirement already satisfied: traitlets>=4.2 in /usr/local/lib/python3.6/dist-packages (from nbclient<0.6,>=0.4.0->voila) (4.3.3)\n",
            "Requirement already satisfied: async-generator in /usr/local/lib/python3.6/dist-packages (from nbclient<0.6,>=0.4.0->voila) (1.10)\n",
            "Requirement already satisfied: nbformat>=5.0 in /usr/local/lib/python3.6/dist-packages (from nbclient<0.6,>=0.4.0->voila) (5.0.8)\n",
            "Requirement already satisfied: nest-asyncio in /usr/local/lib/python3.6/dist-packages (from nbclient<0.6,>=0.4.0->voila) (1.4.3)\n",
            "Requirement already satisfied: jupyter-core>=4.4.0 in /usr/local/lib/python3.6/dist-packages (from jupyter-server<2.0.0,>=0.3.0->voila) (4.7.0)\n",
            "Requirement already satisfied: prometheus-client in /usr/local/lib/python3.6/dist-packages (from jupyter-server<2.0.0,>=0.3.0->voila) (0.9.0)\n",
            "Requirement already satisfied: ipython-genutils in /usr/local/lib/python3.6/dist-packages (from jupyter-server<2.0.0,>=0.3.0->voila) (0.2.0)\n",
            "Requirement already satisfied: pyzmq>=17 in /usr/local/lib/python3.6/dist-packages (from jupyter-server<2.0.0,>=0.3.0->voila) (20.0.0)\n",
            "Collecting tornado>=6.1.0\n",
            "\u001b[?25l  Downloading https://files.pythonhosted.org/packages/85/26/e710295dcb4aac62b08f22d07efc899574476db37532159a7f71713cdaf2/tornado-6.1-cp36-cp36m-manylinux2010_x86_64.whl (427kB)\n",
            "\u001b[K     |████████████████████████████████| 430kB 5.6MB/s \n",
            "\u001b[?25hRequirement already satisfied: terminado>=0.8.3 in /usr/local/lib/python3.6/dist-packages (from jupyter-server<2.0.0,>=0.3.0->voila) (0.9.1)\n",
            "Requirement already satisfied: anyio>=2.0.2 in /usr/local/lib/python3.6/dist-packages (from jupyter-server<2.0.0,>=0.3.0->voila) (2.0.2)\n",
            "Requirement already satisfied: Send2Trash in /usr/local/lib/python3.6/dist-packages (from jupyter-server<2.0.0,>=0.3.0->voila) (1.5.0)\n",
            "Requirement already satisfied: jinja2 in /usr/local/lib/python3.6/dist-packages (from jupyter-server<2.0.0,>=0.3.0->voila) (2.11.2)\n",
            "Requirement already satisfied: pandocfilters>=1.4.1 in /usr/local/lib/python3.6/dist-packages (from nbconvert<7,>=6.0.0->voila) (1.4.3)\n",
            "Requirement already satisfied: entrypoints>=0.2.2 in /usr/local/lib/python3.6/dist-packages (from nbconvert<7,>=6.0.0->voila) (0.3)\n",
            "Requirement already satisfied: defusedxml in /usr/local/lib/python3.6/dist-packages (from nbconvert<7,>=6.0.0->voila) (0.6.0)\n",
            "Requirement already satisfied: jupyterlab-pygments in /usr/local/lib/python3.6/dist-packages (from nbconvert<7,>=6.0.0->voila) (0.1.2)\n",
            "Requirement already satisfied: bleach in /usr/local/lib/python3.6/dist-packages (from nbconvert<7,>=6.0.0->voila) (3.2.1)\n",
            "Requirement already satisfied: mistune<2,>=0.8.1 in /usr/local/lib/python3.6/dist-packages (from nbconvert<7,>=6.0.0->voila) (0.8.4)\n",
            "Requirement already satisfied: pygments>=2.4.1 in /usr/local/lib/python3.6/dist-packages (from nbconvert<7,>=6.0.0->voila) (2.6.1)\n",
            "Requirement already satisfied: testpath in /usr/local/lib/python3.6/dist-packages (from nbconvert<7,>=6.0.0->voila) (0.4.4)\n",
            "Requirement already satisfied: python-dateutil>=2.1 in /usr/local/lib/python3.6/dist-packages (from jupyter-client<7,>=6.1.3->voila) (2.8.1)\n",
            "Requirement already satisfied: decorator in /usr/local/lib/python3.6/dist-packages (from traitlets>=4.2->nbclient<0.6,>=0.4.0->voila) (4.4.2)\n",
            "Requirement already satisfied: six in /usr/local/lib/python3.6/dist-packages (from traitlets>=4.2->nbclient<0.6,>=0.4.0->voila) (1.15.0)\n",
            "Requirement already satisfied: jsonschema!=2.5.0,>=2.4 in /usr/local/lib/python3.6/dist-packages (from nbformat>=5.0->nbclient<0.6,>=0.4.0->voila) (2.6.0)\n",
            "Requirement already satisfied: ptyprocess; os_name != \"nt\" in /usr/local/lib/python3.6/dist-packages (from terminado>=0.8.3->jupyter-server<2.0.0,>=0.3.0->voila) (0.6.0)\n",
            "Requirement already satisfied: sniffio>=1.1 in /usr/local/lib/python3.6/dist-packages (from anyio>=2.0.2->jupyter-server<2.0.0,>=0.3.0->voila) (1.2.0)\n",
            "Requirement already satisfied: idna>=2.8 in /usr/local/lib/python3.6/dist-packages (from anyio>=2.0.2->jupyter-server<2.0.0,>=0.3.0->voila) (2.10)\n",
            "Requirement already satisfied: dataclasses; python_version < \"3.7\" in /usr/local/lib/python3.6/dist-packages (from anyio>=2.0.2->jupyter-server<2.0.0,>=0.3.0->voila) (0.8)\n",
            "Requirement already satisfied: typing-extensions; python_version < \"3.8\" in /usr/local/lib/python3.6/dist-packages (from anyio>=2.0.2->jupyter-server<2.0.0,>=0.3.0->voila) (3.7.4.3)\n",
            "Requirement already satisfied: MarkupSafe>=0.23 in /usr/local/lib/python3.6/dist-packages (from jinja2->jupyter-server<2.0.0,>=0.3.0->voila) (1.1.1)\n",
            "Requirement already satisfied: webencodings in /usr/local/lib/python3.6/dist-packages (from bleach->nbconvert<7,>=6.0.0->voila) (0.5.1)\n",
            "Requirement already satisfied: packaging in /usr/local/lib/python3.6/dist-packages (from bleach->nbconvert<7,>=6.0.0->voila) (20.7)\n",
            "Requirement already satisfied: contextvars>=2.1; python_version < \"3.7\" in /usr/local/lib/python3.6/dist-packages (from sniffio>=1.1->anyio>=2.0.2->jupyter-server<2.0.0,>=0.3.0->voila) (2.4)\n",
            "Requirement already satisfied: pyparsing>=2.0.2 in /usr/local/lib/python3.6/dist-packages (from packaging->bleach->nbconvert<7,>=6.0.0->voila) (2.4.7)\n",
            "Requirement already satisfied: immutables>=0.9 in /usr/local/lib/python3.6/dist-packages (from contextvars>=2.1; python_version < \"3.7\"->sniffio>=1.1->anyio>=2.0.2->jupyter-server<2.0.0,>=0.3.0->voila) (0.14)\n",
            "\u001b[31mERROR: google-colab 1.0.0 has requirement tornado~=5.1.0; python_version >= \"3.0\", but you'll have tornado 6.1 which is incompatible.\u001b[0m\n",
            "Installing collected packages: tornado\n",
            "  Found existing installation: tornado 5.1.1\n",
            "    Uninstalling tornado-5.1.1:\n",
            "      Successfully uninstalled tornado-5.1.1\n",
            "Successfully installed tornado-6.1\n"
          ],
          "name": "stdout"
        },
        {
          "output_type": "display_data",
          "data": {
            "application/vnd.colab-display-data+json": {
              "pip_warning": {
                "packages": [
                  "tornado"
                ]
              }
            }
          },
          "metadata": {
            "tags": []
          }
        }
      ]
    },
    {
      "cell_type": "code",
      "metadata": {
        "colab": {
          "base_uri": "https://localhost:8080/",
          "height": 400
        },
        "id": "xguZgNyzLo_j",
        "outputId": "100d7371-213f-4a41-a51f-d79a9f3ae8ba"
      },
      "source": [
        "!pip install tornado==5.1.0"
      ],
      "execution_count": 6,
      "outputs": [
        {
          "output_type": "stream",
          "text": [
            "Collecting tornado==5.1.0\n",
            "\u001b[?25l  Downloading https://files.pythonhosted.org/packages/45/ec/f2a03a0509bcfca336bef23a3dab0d07504893af34fd13064059ba4a0503/tornado-5.1.tar.gz (516kB)\n",
            "\r\u001b[K     |▋                               | 10kB 15.9MB/s eta 0:00:01\r\u001b[K     |█▎                              | 20kB 19.7MB/s eta 0:00:01\r\u001b[K     |██                              | 30kB 11.4MB/s eta 0:00:01\r\u001b[K     |██▌                             | 40kB 8.0MB/s eta 0:00:01\r\u001b[K     |███▏                            | 51kB 4.4MB/s eta 0:00:01\r\u001b[K     |███▉                            | 61kB 4.6MB/s eta 0:00:01\r\u001b[K     |████▍                           | 71kB 5.2MB/s eta 0:00:01\r\u001b[K     |█████                           | 81kB 5.8MB/s eta 0:00:01\r\u001b[K     |█████▊                          | 92kB 5.7MB/s eta 0:00:01\r\u001b[K     |██████▍                         | 102kB 5.9MB/s eta 0:00:01\r\u001b[K     |███████                         | 112kB 5.9MB/s eta 0:00:01\r\u001b[K     |███████▋                        | 122kB 5.9MB/s eta 0:00:01\r\u001b[K     |████████▎                       | 133kB 5.9MB/s eta 0:00:01\r\u001b[K     |████████▉                       | 143kB 5.9MB/s eta 0:00:01\r\u001b[K     |█████████▌                      | 153kB 5.9MB/s eta 0:00:01\r\u001b[K     |██████████▏                     | 163kB 5.9MB/s eta 0:00:01\r\u001b[K     |██████████▉                     | 174kB 5.9MB/s eta 0:00:01\r\u001b[K     |███████████▍                    | 184kB 5.9MB/s eta 0:00:01\r\u001b[K     |████████████                    | 194kB 5.9MB/s eta 0:00:01\r\u001b[K     |████████████▊                   | 204kB 5.9MB/s eta 0:00:01\r\u001b[K     |█████████████▎                  | 215kB 5.9MB/s eta 0:00:01\r\u001b[K     |██████████████                  | 225kB 5.9MB/s eta 0:00:01\r\u001b[K     |██████████████▋                 | 235kB 5.9MB/s eta 0:00:01\r\u001b[K     |███████████████▎                | 245kB 5.9MB/s eta 0:00:01\r\u001b[K     |███████████████▉                | 256kB 5.9MB/s eta 0:00:01\r\u001b[K     |████████████████▌               | 266kB 5.9MB/s eta 0:00:01\r\u001b[K     |█████████████████▏              | 276kB 5.9MB/s eta 0:00:01\r\u001b[K     |█████████████████▊              | 286kB 5.9MB/s eta 0:00:01\r\u001b[K     |██████████████████▍             | 296kB 5.9MB/s eta 0:00:01\r\u001b[K     |███████████████████             | 307kB 5.9MB/s eta 0:00:01\r\u001b[K     |███████████████████▊            | 317kB 5.9MB/s eta 0:00:01\r\u001b[K     |████████████████████▎           | 327kB 5.9MB/s eta 0:00:01\r\u001b[K     |█████████████████████           | 337kB 5.9MB/s eta 0:00:01\r\u001b[K     |█████████████████████▋          | 348kB 5.9MB/s eta 0:00:01\r\u001b[K     |██████████████████████▏         | 358kB 5.9MB/s eta 0:00:01\r\u001b[K     |██████████████████████▉         | 368kB 5.9MB/s eta 0:00:01\r\u001b[K     |███████████████████████▌        | 378kB 5.9MB/s eta 0:00:01\r\u001b[K     |████████████████████████▏       | 389kB 5.9MB/s eta 0:00:01\r\u001b[K     |████████████████████████▊       | 399kB 5.9MB/s eta 0:00:01\r\u001b[K     |█████████████████████████▍      | 409kB 5.9MB/s eta 0:00:01\r\u001b[K     |██████████████████████████      | 419kB 5.9MB/s eta 0:00:01\r\u001b[K     |██████████████████████████▋     | 430kB 5.9MB/s eta 0:00:01\r\u001b[K     |███████████████████████████▎    | 440kB 5.9MB/s eta 0:00:01\r\u001b[K     |████████████████████████████    | 450kB 5.9MB/s eta 0:00:01\r\u001b[K     |████████████████████████████▋   | 460kB 5.9MB/s eta 0:00:01\r\u001b[K     |█████████████████████████████▏  | 471kB 5.9MB/s eta 0:00:01\r\u001b[K     |█████████████████████████████▉  | 481kB 5.9MB/s eta 0:00:01\r\u001b[K     |██████████████████████████████▌ | 491kB 5.9MB/s eta 0:00:01\r\u001b[K     |███████████████████████████████ | 501kB 5.9MB/s eta 0:00:01\r\u001b[K     |███████████████████████████████▊| 512kB 5.9MB/s eta 0:00:01\r\u001b[K     |████████████████████████████████| 522kB 5.9MB/s \n",
            "\u001b[?25hBuilding wheels for collected packages: tornado\n",
            "  Building wheel for tornado (setup.py) ... \u001b[?25l\u001b[?25hdone\n",
            "  Created wheel for tornado: filename=tornado-5.1-cp36-cp36m-linux_x86_64.whl size=461865 sha256=3d751799bb81d10cd7001ea88ec60e32591691545254ae8f1558ca0bfd0d8ff5\n",
            "  Stored in directory: /root/.cache/pip/wheels/a3/fc/8b/cc9cae4f0c829663a49cc652ce7d994fa65434d61bb819c3d5\n",
            "Successfully built tornado\n",
            "Installing collected packages: tornado\n",
            "  Found existing installation: tornado 5.1.1\n",
            "    Uninstalling tornado-5.1.1:\n",
            "      Successfully uninstalled tornado-5.1.1\n",
            "Successfully installed tornado-5.1\n"
          ],
          "name": "stdout"
        },
        {
          "output_type": "display_data",
          "data": {
            "application/vnd.colab-display-data+json": {
              "pip_warning": {
                "packages": [
                  "tornado"
                ]
              }
            }
          },
          "metadata": {
            "tags": []
          }
        }
      ]
    },
    {
      "cell_type": "code",
      "metadata": {
        "id": "2E1Uzp2vL9dF"
      },
      "source": [
        "from fastai import *\n",
        "from fastbook import *\n",
        "from fastai.vision.widgets import *"
      ],
      "execution_count": 4,
      "outputs": []
    },
    {
      "cell_type": "code",
      "metadata": {
        "id": "0-YNUCkyF_EF",
        "colab": {
          "base_uri": "https://localhost:8080/"
        },
        "outputId": "99f1c49b-68cd-4841-aa51-bc616cc71653"
      },
      "source": [
        "from google.colab import drive\n",
        "drive.mount('/content/gdrive',force_remount=True)\n",
        "path=Path('/content/gdrive/My Drive//Colab Notebooks/Galletas')\n",
        "#path.ls\n"
      ],
      "execution_count": 5,
      "outputs": [
        {
          "output_type": "stream",
          "text": [
            "Mounted at /content/gdrive\n"
          ],
          "name": "stdout"
        }
      ]
    },
    {
      "cell_type": "code",
      "metadata": {
        "id": "AmJd_fVVr8kd",
        "colab": {
          "base_uri": "https://localhost:8080/"
        },
        "outputId": "4159378d-b7ad-4351-a074-1fdde5f6449c"
      },
      "source": [
        "fns = get_image_files(path)\n",
        "fns"
      ],
      "execution_count": 7,
      "outputs": [
        {
          "output_type": "execute_result",
          "data": {
            "text/plain": [
              "(#52) [Path('/content/gdrive/My Drive/Colab Notebooks/Galletas/Feas/ugly-cookies.jpg'),Path('/content/gdrive/My Drive/Colab Notebooks/Galletas/Feas/icecookies6-5a0f86899e94270037d9b4c8-5b043d4f43a10300381334be.jpg'),Path('/content/gdrive/My Drive/Colab Notebooks/Galletas/Feas/gingerbread-man-cookie-vertical-a-1800.jpg'),Path('/content/gdrive/My Drive/Colab Notebooks/Galletas/Feas/homemade-gingerbread-stars.jpg'),Path('/content/gdrive/My Drive/Colab Notebooks/Galletas/Feas/imahges.jpeg'),Path('/content/gdrive/My Drive/Colab Notebooks/Galletas/Feas/christmas-sugar-cookies-featured-1024x768.jpg'),Path('/content/gdrive/My Drive/Colab Notebooks/Galletas/Feas/image1.jpg'),Path('/content/gdrive/My Drive/Colab Notebooks/Galletas/Feas/exps21624_CC153599C01_09_3b-696x696.jpg'),Path('/content/gdrive/My Drive/Colab Notebooks/Galletas/Feas/imaggges.jpeg'),Path('/content/gdrive/My Drive/Colab Notebooks/Galletas/Feas/gg.jpeg')...]"
            ]
          },
          "metadata": {
            "tags": []
          },
          "execution_count": 7
        }
      ]
    },
    {
      "cell_type": "code",
      "metadata": {
        "id": "rpmar-_HJGua"
      },
      "source": [
        "galletas = DataBlock(\n",
        "    blocks=(ImageBlock, CategoryBlock), \n",
        "    get_items=get_image_files, \n",
        "    splitter=RandomSplitter(valid_pct=0.2, seed=42),\n",
        "    get_y=parent_label,\n",
        "    item_tfms=Resize(128))"
      ],
      "execution_count": 8,
      "outputs": []
    },
    {
      "cell_type": "code",
      "metadata": {
        "id": "KzitgtPjrZ3g"
      },
      "source": [
        "dls = galletas.dataloaders(path)"
      ],
      "execution_count": 9,
      "outputs": []
    },
    {
      "cell_type": "code",
      "metadata": {
        "id": "pftY475esYTV",
        "colab": {
          "base_uri": "https://localhost:8080/",
          "height": 403,
          "referenced_widgets": [
            "660c2254c2914120b133e3677115a842",
            "70273b5798424436b485d4fc148a9cd8",
            "49da8daceeb54671ab7faa61f42b902f",
            "ae7fb3379cca47d9b09df978b257eb3d",
            "b670651e3702416c9de1f2fa0901180f",
            "f9bf4d87fc3245898005f68faebf908b",
            "a162ffd3f7b74ee6842e62f7b1d8bbb2",
            "fa311b1ebb3e4164b02ae3e5a633f8d8"
          ]
        },
        "outputId": "204ed6d2-fae8-407b-99bf-38997ce41ce5"
      },
      "source": [
        "galletas = galletas.new(\n",
        "    item_tfms=RandomResizedCrop(224, min_scale=0.5),\n",
        "    batch_tfms=aug_transforms())\n",
        "dls = galletas.dataloaders(path)\n",
        "\n",
        "learn = cnn_learner(dls, resnet18, metrics=error_rate)\n",
        "learn.fine_tune(6)"
      ],
      "execution_count": 10,
      "outputs": [
        {
          "output_type": "stream",
          "text": [
            "Downloading: \"https://download.pytorch.org/models/resnet18-5c106cde.pth\" to /root/.cache/torch/hub/checkpoints/resnet18-5c106cde.pth\n"
          ],
          "name": "stderr"
        },
        {
          "output_type": "display_data",
          "data": {
            "application/vnd.jupyter.widget-view+json": {
              "model_id": "660c2254c2914120b133e3677115a842",
              "version_minor": 0,
              "version_major": 2
            },
            "text/plain": [
              "HBox(children=(FloatProgress(value=0.0, max=46827520.0), HTML(value='')))"
            ]
          },
          "metadata": {
            "tags": []
          }
        },
        {
          "output_type": "stream",
          "text": [
            "\n"
          ],
          "name": "stdout"
        },
        {
          "output_type": "display_data",
          "data": {
            "text/html": [
              "<table border=\"1\" class=\"dataframe\">\n",
              "  <thead>\n",
              "    <tr style=\"text-align: left;\">\n",
              "      <th>epoch</th>\n",
              "      <th>train_loss</th>\n",
              "      <th>valid_loss</th>\n",
              "      <th>error_rate</th>\n",
              "      <th>time</th>\n",
              "    </tr>\n",
              "  </thead>\n",
              "  <tbody>\n",
              "    <tr>\n",
              "      <td>0</td>\n",
              "      <td>nan</td>\n",
              "      <td>1.114389</td>\n",
              "      <td>0.500000</td>\n",
              "      <td>00:11</td>\n",
              "    </tr>\n",
              "  </tbody>\n",
              "</table>"
            ],
            "text/plain": [
              "<IPython.core.display.HTML object>"
            ]
          },
          "metadata": {
            "tags": []
          }
        },
        {
          "output_type": "stream",
          "text": [
            "/usr/local/lib/python3.6/dist-packages/fastprogress/fastprogress.py:74: UserWarning: Your generator is empty.\n",
            "  warn(\"Your generator is empty.\")\n"
          ],
          "name": "stderr"
        },
        {
          "output_type": "display_data",
          "data": {
            "text/html": [
              "<table border=\"1\" class=\"dataframe\">\n",
              "  <thead>\n",
              "    <tr style=\"text-align: left;\">\n",
              "      <th>epoch</th>\n",
              "      <th>train_loss</th>\n",
              "      <th>valid_loss</th>\n",
              "      <th>error_rate</th>\n",
              "      <th>time</th>\n",
              "    </tr>\n",
              "  </thead>\n",
              "  <tbody>\n",
              "    <tr>\n",
              "      <td>0</td>\n",
              "      <td>nan</td>\n",
              "      <td>1.114389</td>\n",
              "      <td>0.500000</td>\n",
              "      <td>00:02</td>\n",
              "    </tr>\n",
              "    <tr>\n",
              "      <td>1</td>\n",
              "      <td>nan</td>\n",
              "      <td>1.114389</td>\n",
              "      <td>0.500000</td>\n",
              "      <td>00:02</td>\n",
              "    </tr>\n",
              "    <tr>\n",
              "      <td>2</td>\n",
              "      <td>nan</td>\n",
              "      <td>1.114389</td>\n",
              "      <td>0.500000</td>\n",
              "      <td>00:02</td>\n",
              "    </tr>\n",
              "    <tr>\n",
              "      <td>3</td>\n",
              "      <td>nan</td>\n",
              "      <td>1.114389</td>\n",
              "      <td>0.500000</td>\n",
              "      <td>00:02</td>\n",
              "    </tr>\n",
              "    <tr>\n",
              "      <td>4</td>\n",
              "      <td>nan</td>\n",
              "      <td>1.114389</td>\n",
              "      <td>0.500000</td>\n",
              "      <td>00:02</td>\n",
              "    </tr>\n",
              "    <tr>\n",
              "      <td>5</td>\n",
              "      <td>nan</td>\n",
              "      <td>1.114389</td>\n",
              "      <td>0.500000</td>\n",
              "      <td>00:02</td>\n",
              "    </tr>\n",
              "  </tbody>\n",
              "</table>"
            ],
            "text/plain": [
              "<IPython.core.display.HTML object>"
            ]
          },
          "metadata": {
            "tags": []
          }
        }
      ]
    },
    {
      "cell_type": "code",
      "metadata": {
        "id": "BfAK778fsnSX"
      },
      "source": [
        "learn.export(os.path.abspath('./my_export.pkl'))"
      ],
      "execution_count": 11,
      "outputs": []
    },
    {
      "cell_type": "code",
      "metadata": {
        "id": "7ZBy84JussGd"
      },
      "source": [
        "learn_inf = load_learner(os.path.abspath('./my_export.pkl'),cpu=True)"
      ],
      "execution_count": 12,
      "outputs": []
    },
    {
      "cell_type": "code",
      "metadata": {
        "id": "p_EeXB8bsyg0"
      },
      "source": [
        "button=widgets.FileUpload()\n",
        "out=widgets.Output()\n",
        "prediction=widgets.Label()"
      ],
      "execution_count": 13,
      "outputs": []
    },
    {
      "cell_type": "code",
      "metadata": {
        "id": "fexxPSEutIhL"
      },
      "source": [
        "def click(change):\n",
        "  img=PILImage.create(button.data[-1])\n",
        "  out.clear_output()\n",
        "  with out:display(img.to_thumb(120,120))\n",
        "  pred,index,proba=learn_inf.predict(img)\n",
        "  prediction.value=f'Se define como una de las galletas {pred}, y esto con una confianza de {proba[index]}'"
      ],
      "execution_count": 14,
      "outputs": []
    },
    {
      "cell_type": "code",
      "metadata": {
        "id": "w_UTVRu7uNMq",
        "colab": {
          "base_uri": "https://localhost:8080/",
          "height": 233,
          "referenced_widgets": [
            "a49c0d06e1a74ee8abb3006a30294f7c",
            "1e1742d23b9a4f6cb0b521e247f235e0",
            "dc60f3048e324c619aec97f5716dc206",
            "acbbf4ced54a4211aa636c32f4e62a91",
            "03fe88f4f1f6413eaefb547983875925",
            "d2538b471ede44c0a232a66dbf6c857c",
            "edf23ce50aa44a51a6f25fd3edb3c757",
            "0f1a98c044b44c62abd6143e8dc317fa",
            "b5dae76abcfa40a5a67d1025c13c63de",
            "5cf8418a40f24715b504af8da5a9610c",
            "7cf3451755f84d7084c3447437d1f59a",
            "dd706787fcfd4f298878794d5cc10d11",
            "ae800bbf18334e34a1b5c133af1140ef"
          ]
        },
        "outputId": "22ac2f02-ecb7-4fa3-a640-cf281f3be54f"
      },
      "source": [
        "button.observe(click,names=['data'])\n",
        "display(VBox([widgets.Label('Ingrese una Galleta'),button,out,prediction]))"
      ],
      "execution_count": 15,
      "outputs": [
        {
          "output_type": "display_data",
          "data": {
            "application/vnd.jupyter.widget-view+json": {
              "model_id": "a49c0d06e1a74ee8abb3006a30294f7c",
              "version_minor": 0,
              "version_major": 2
            },
            "text/plain": [
              "VBox(children=(Label(value='Ingrese una Galleta'), FileUpload(value={}, description='Upload'), Output(), Label…"
            ]
          },
          "metadata": {
            "tags": []
          }
        },
        {
          "output_type": "display_data",
          "data": {
            "text/html": [
              ""
            ],
            "text/plain": [
              "<IPython.core.display.HTML object>"
            ]
          },
          "metadata": {
            "tags": []
          }
        }
      ]
    },
    {
      "cell_type": "code",
      "metadata": {
        "id": "6v1GQcw_MbP3"
      },
      "source": [
        ""
      ],
      "execution_count": null,
      "outputs": []
    }
  ]
}